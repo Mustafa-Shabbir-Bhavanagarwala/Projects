{
 "cells": [
  {
   "cell_type": "markdown",
   "id": "fe48a340",
   "metadata": {},
   "source": [
    "### \n",
    "\n",
    "Indexing documents and computing query relevance using Spark DataFrames.\n",
    "\n",
    "There are two parts:\n",
    "\n",
    "1.  Code builds the indexing pipeline using Spark data frames.  The result will be a DataFrame that will have the (docid, term, tfidf) values for every term appearing in every document.\n",
    "2. The index is used to compute the most relevant documents for a query.  \n"
   ]
  },
  {
   "cell_type": "code",
   "execution_count": 1,
   "id": "1adfef2f",
   "metadata": {},
   "outputs": [
    {
     "data": {
      "application/vnd.jupyter.widget-view+json": {
       "model_id": "298550bba4de405cb64c3cfbd9c85ea3",
       "version_major": 2,
       "version_minor": 0
      },
      "text/plain": [
       "VBox()"
      ]
     },
     "metadata": {},
     "output_type": "display_data"
    },
    {
     "name": "stdout",
     "output_type": "stream",
     "text": [
      "Starting Spark application\n"
     ]
    },
    {
     "data": {
      "text/html": [
       "<table>\n",
       "<tr><th>ID</th><th>YARN Application ID</th><th>Kind</th><th>State</th><th>Spark UI</th><th>Driver log</th><th>User</th><th>Current session?</th></tr><tr><td>1</td><td>application_1716492702455_0002</td><td>pyspark</td><td>idle</td><td><a target=\"_blank\" href=\"http://ip-172-31-68-46.ec2.internal:20888/proxy/application_1716492702455_0002/\" class=\"emr-proxy-link\" emr-resource=\"j-2SBW2G57X3FAP\n",
       "\" application-id=\"application_1716492702455_0002\">Link</a></td><td><a target=\"_blank\" href=\"http://ip-172-31-76-88.ec2.internal:8042/node/containerlogs/container_1716492702455_0002_01_000001/livy\" >Link</a></td><td>None</td><td>✔</td></tr></table>"
      ],
      "text/plain": [
       "<IPython.core.display.HTML object>"
      ]
     },
     "metadata": {},
     "output_type": "display_data"
    },
    {
     "data": {
      "application/vnd.jupyter.widget-view+json": {
       "model_id": "",
       "version_major": 2,
       "version_minor": 0
      },
      "text/plain": [
       "FloatProgress(value=0.0, bar_style='info', description='Progress:', layout=Layout(height='25px', width='50%'),…"
      ]
     },
     "metadata": {},
     "output_type": "display_data"
    },
    {
     "name": "stdout",
     "output_type": "stream",
     "text": [
      "SparkSession available as 'spark'.\n"
     ]
    },
    {
     "data": {
      "application/vnd.jupyter.widget-view+json": {
       "model_id": "",
       "version_major": 2,
       "version_minor": 0
      },
      "text/plain": [
       "FloatProgress(value=0.0, bar_style='info', description='Progress:', layout=Layout(height='25px', width='50%'),…"
      ]
     },
     "metadata": {},
     "output_type": "display_data"
    }
   ],
   "source": [
    "import re\n",
    "from pyspark.sql import SQLContext\n",
    "from pyspark.sql.types import StructField, StructType, ArrayType, StringType, LongType, FloatType, IntegerType, Row\n",
    "from pyspark.sql.functions import udf, col, column, size, collect_set\n",
    "from pyspark.sql.functions import explode\n",
    "from pyspark.sql.functions import split\n",
    "from pyspark.sql.functions import round\n",
    "from pyspark.sql.functions import sum"
   ]
  },
  {
   "cell_type": "code",
   "execution_count": 2,
   "id": "e3d6cfc3",
   "metadata": {},
   "outputs": [
    {
     "data": {
      "application/vnd.jupyter.widget-view+json": {
       "model_id": "00c440954280494583227d000d8b2221",
       "version_major": 2,
       "version_minor": 0
      },
      "text/plain": [
       "VBox()"
      ]
     },
     "metadata": {},
     "output_type": "display_data"
    },
    {
     "data": {
      "application/vnd.jupyter.widget-view+json": {
       "model_id": "",
       "version_major": 2,
       "version_minor": 0
      },
      "text/plain": [
       "FloatProgress(value=0.0, bar_style='info', description='Progress:', layout=Layout(height='25px', width='50%'),…"
      ]
     },
     "metadata": {},
     "output_type": "display_data"
    }
   ],
   "source": [
    "#points to S3 location\n",
    "books_directory = 's3://aws-emr-studio-247682200909-us-east-1/1716433985675/e-83ZVZCJXCP2R95V5BUL2OEQDY/books/'"
   ]
  },
  {
   "cell_type": "code",
   "execution_count": 3,
   "id": "832d3ff5",
   "metadata": {},
   "outputs": [
    {
     "data": {
      "application/vnd.jupyter.widget-view+json": {
       "model_id": "2260c8ae7d4349dfbd35a1b2737e370c",
       "version_major": 2,
       "version_minor": 0
      },
      "text/plain": [
       "VBox()"
      ]
     },
     "metadata": {},
     "output_type": "display_data"
    },
    {
     "data": {
      "application/vnd.jupyter.widget-view+json": {
       "model_id": "",
       "version_major": 2,
       "version_minor": 0
      },
      "text/plain": [
       "FloatProgress(value=0.0, bar_style='info', description='Progress:', layout=Layout(height='25px', width='50%'),…"
      ]
     },
     "metadata": {},
     "output_type": "display_data"
    }
   ],
   "source": [
    "\n",
    "\n",
    "import re\n",
    "\n",
    "stopwords = set([\"a\", \"as\", \"able\", \"about\", \"above\", \"according\", \"accordingly\",\n",
    "\t     \"across\", \"actually\", \"after\", \"afterwards\", \"again\", \"against\", \"aint\", \"all\", \"allow\",\n",
    "\t     \"allows\", \"almost\", \"alone\", \"along\", \"already\", \"also\", \"although\", \"always\", \"am\", \"among\",\n",
    "\t     \"amongst\", \"an\", \"and\", \"another\", \"any\", \"anybody\", \"anyhow\", \"anyone\", \"anything\", \"anyway\",\n",
    "\t     \"anyways\", \"anywhere\", \"apart\", \"appear\",\"appreciate\", \"appropriate\", \"are\", \"arent\", \"around\",\n",
    "\t     \"as\", \"aside\", \"ask\", \"asking\", \"associated\", \"at\", \"available\", \"away\", \"awfully\", \"be\", \"became\",\n",
    "\t     \"because\", \"become\", \"becomes\", \"becoming\", \"been\", \"before\", \"beforehand\", \"behind\",\n",
    "\t     \"being\", \"believe\", \"below\", \"beside\", \"besides\", \"best\", \"better\", \"between\", \"beyond\",\n",
    "\t     \"both\", \"brief\", \"but\", \"by\", \"cmon\", \"cs\", \"came\", \"can\", \"cant\", \"cannot\", \"cant\",\n",
    "\t     \"cause\", \"causes\", \"certain\", \"certainly\", \"changes\", \"clearly\", \"co\", \"com\", \"come\",\n",
    "\t     \"comes\", \"concerning\", \"consequently\", \"consider\", \"considering\", \"contain\", \"containing\",\n",
    "\t     \"contains\", \"corresponding\", \"could\", \"couldnt\", \"course\", \"currently\", \"definitely\",\n",
    "\t     \"described\", \"despite\", \"did\", \"didnt\", \"different\", \"do\", \"does\", \"doesnt\", \"doing\",\n",
    "\t     \"dont\", \"done\", \"down\", \"downwards\", \"during\", \"each\", \"edu\", \"eg\", \"eight\", \"either\",\n",
    "\t     \"else\", \"elsewhere\", \"enough\", \"entirely\", \"especially\", \"et\", \"etc\", \"even\", \"ever\",\n",
    "\t     \"every\", \"everybody\", \"everyone\", \"everything\", \"everywhere\", \"ex\", \"exactly\", \"example\",\n",
    "\t     \"except\", \"far\", \"few\", \"ff\", \"fifth\", \"first\", \"five\", \"followed\", \"following\", \"follows\",\n",
    "\t     \"for\", \"former\", \"formerly\", \"forth\", \"four\", \"from\", \"further\", \"furthermore\", \"get\",\n",
    "\t     \"gets\", \"getting\", \"given\", \"gives\", \"go\", \"goes\", \"going\", \"gone\", \"got\", \"gotten\",\n",
    "\t     \"greetings\", \"had\", \"hadnt\", \"happens\", \"hardly\", \"has\", \"hasnt\", \"have\", \"havent\",\n",
    "\t     \"having\", \"he\", \"hes\", \"hello\", \"help\", \"hence\", \"her\", \"here\", \"heres\", \"hereafter\",\n",
    "\t     \"hereby\", \"herein\", \"hereupon\", \"hers\", \"herself\", \"hi\", \"him\", \"himself\",\n",
    "\t     \"his\", \"hither\", \"hopefully\", \"how\", \"howbeit\", \"however\", \"i\", \"id\", \"ill\", \"im\", \"ive\",\n",
    "\t     \"ie\", \"if\", \"ignored\", \"immediate\", \"in\", \"inasmuch\", \"inc\", \"indeed\", \"indicate\",\n",
    "\t     \"indicated\", \"indicates\", \"inner\", \"insofar\", \"instead\", \"into\", \"inward\", \"is\",\n",
    "\t     \"isnt\", \"it\", \"itd\", \"itll\", \"its\", \"its\", \"itself\", \"just\", \"keep\", \"keeps\", \"kept\",\n",
    "\t     \"know\", \"knows\", \"known\", \"last\", \"lately\", \"later\", \"latter\", \"latterly\", \"least\",\n",
    "\t     \"less\", \"lest\", \"let\", \"lets\", \"like\", \"liked\", \"likely\", \"little\", \"look\", \"looking\",\n",
    "\t     \"looks\", \"ltd\", \"mainly\", \"many\", \"may\", \"maybe\", \"me\", \"mean\", \"meanwhile\", \"merely\",\n",
    "\t     \"might\", \"more\", \"moreover\", \"most\", \"mostly\", \"much\", \"must\", \"my\", \"myself\",\n",
    "\t     \"name\", \"namely\", \"nd\", \"near\", \"nearly\", \"necessary\", \"need\", \"needs\", \"neither\",\n",
    "\t     \"never\", \"nevertheless\", \"new\", \"next\", \"nine\", \"no\", \"nobody\", \"non\", \"none\", \"noone\",\n",
    "\t     \"nor\", \"normally\", \"not\", \"nothing\", \"novel\", \"now\", \"nowhere\", \"obviously\", \"of\",\n",
    "\t     \"off\", \"often\", \"oh\", \"ok\", \"okay\", \"old\", \"on\", \"once\", \"one\", \"ones\", \"only\",\n",
    "\t     \"onto\", \"or\", \"other\", \"others\", \"otherwise\", \"ought\", \"our\", \"ours\", \"ourselves\",\n",
    "\t     \"out\", \"outside\", \"over\", \"overall\", \"own\", \"particular\", \"particularly\",\n",
    "\t     \"per\", \"perhaps\", \"placed\", \"please\", \"plus\", \"possible\", \"presumably\", \"probably\",\n",
    "\t     \"provides\", \"que\", \"quite\", \"qv\", \"rather\", \"rd\", \"re\", \"really\", \"reasonably\",\n",
    "\t     \"regarding\", \"regardless\", \"regards\", \"relatively\", \"respectively\", \"right\", \"said\",\n",
    "\t     \"same\", \"saw\", \"say\", \"saying\", \"says\", \"second\", \"secondly\", \"see\", \"seeing\",\n",
    "\t     \"seem\", \"seemed\", \"seeming\", \"seems\", \"seen\", \"self\", \"selves\", \"sensible\", \"sent\",\n",
    "\t     \"serious\", \"seriously\", \"seven\", \"several\", \"shall\", \"she\", \"should\", \"shouldnt\",\n",
    "\t     \"since\", \"six\", \"so\", \"some\", \"somebody\", \"somehow\", \"someone\", \"something\",\n",
    "\t     \"sometime\", \"sometimes\", \"somewhat\", \"somewhere\", \"soon\", \"sorry\", \"specified\", \"specify\",\n",
    "\t     \"specifying\", \"still\", \"sub\", \"such\", \"sup\", \"sure\", \"ts\", \"take\", \"taken\", \"tell\", \"tends\",\n",
    "\t     \"th\", \"than\", \"thank\", \"thanks\", \"thanx\", \"that\", \"thats\", \"thats\", \"the\", \"their\", \"theirs\",\n",
    "\t     \"them\", \"themselves\", \"then\", \"thence\", \"there\", \"theres\", \"thereafter\", \"thereby\",\n",
    "\t     \"therefore\", \"therein\", \"theres\", \"thereupon\", \"these\", \"they\", \"theyd\",\n",
    "\t     \"theyll\", \"theyre\", \"theyve\", \"think\", \"third\", \"this\", \"thorough\",\n",
    "\t     \"thoroughly\", \"those\", \"though\", \"three\", \"through\", \"throughout\", \"thru\",\n",
    "\t     \"thus\", \"to\", \"together\", \"too\", \"took\", \"toward\", \"towards\", \"tried\", \"tries\",\n",
    "\t     \"truly\", \"try\", \"trying\", \"twice\", \"two\", \"un\", \"under\", \"unfortunately\",\n",
    "\t     \"unless\", \"unlikely\", \"until\", \"unto\", \"up\", \"upon\", \"us\", \"use\", \"used\",\n",
    "\t     \"useful\", \"uses\", \"using\", \"usually\", \"value\", \"various\", \"very\", \"via\", \"viz\",\n",
    "\t     \"vs\", \"want\", \"wants\", \"was\", \"wasnt\", \"way\", \"we\", \"wed\", \"well\", \"were\", \"weve\",\n",
    "\t     \"welcome\", \"well\", \"went\", \"were\", \"werent\", \"what\", \"whats\", \"whatever\", \"when\",\n",
    "\t     \"whence\", \"whenever\", \"where\", \"wheres\", \"whereafter\", \"whereas\", \"whereby\",\n",
    "\t     \"wherein\", \"whereupon\", \"wherever\", \"whether\", \"which\", \"while\", \"whither\", \"who\",\n",
    "\t     \"whos\", \"whoever\", \"whole\", \"whom\", \"whose\", \"why\", \"will\", \"willing\", \"wish\",\n",
    "\t     \"with\", \"within\", \"without\", \"wont\", \"wonder\", \"would\", \"would\", \"wouldnt\", \"yes\",\n",
    "\t     \"yet\", \"you\", \"youd\", \"youll\", \"youre\", \"youve\", \"your\", \"yours\", \"yourself\",\n",
    "\t     \"yourselves\", \"zero\"])\n",
    "\n",
    "def termify(line):\n",
    "    terms = []\n",
    "    words = re.findall(r'[^\\W_]+', line)\n",
    "    for word in words:\n",
    "        lowered = word.lower()\n",
    "        if (len(lowered) > 1) and (lowered not in stopwords) and (not re.search(r'^\\d*$', lowered)):\n",
    "            terms.append(lowered)\n",
    "    return terms\n"
   ]
  },
  {
   "cell_type": "code",
   "execution_count": 4,
   "id": "dcd4e825",
   "metadata": {},
   "outputs": [
    {
     "data": {
      "application/vnd.jupyter.widget-view+json": {
       "model_id": "0b90c4e7db654c4d9e86340f3c935131",
       "version_major": 2,
       "version_minor": 0
      },
      "text/plain": [
       "VBox()"
      ]
     },
     "metadata": {},
     "output_type": "display_data"
    },
    {
     "data": {
      "application/vnd.jupyter.widget-view+json": {
       "model_id": "",
       "version_major": 2,
       "version_minor": 0
      },
      "text/plain": [
       "FloatProgress(value=0.0, bar_style='info', description='Progress:', layout=Layout(height='25px', width='50%'),…"
      ]
     },
     "metadata": {},
     "output_type": "display_data"
    }
   ],
   "source": [
    "# function to get a docid from a file path\n",
    "\n",
    "def get_docid(filepath):\n",
    "    return filepath.split('/')[-1][: -4]"
   ]
  },
  {
   "cell_type": "code",
   "execution_count": 5,
   "id": "e89bf1fe",
   "metadata": {},
   "outputs": [
    {
     "data": {
      "application/vnd.jupyter.widget-view+json": {
       "model_id": "340bf26bc7ae46c6987f964b1d22d24e",
       "version_major": 2,
       "version_minor": 0
      },
      "text/plain": [
       "VBox()"
      ]
     },
     "metadata": {},
     "output_type": "display_data"
    },
    {
     "data": {
      "application/vnd.jupyter.widget-view+json": {
       "model_id": "",
       "version_major": 2,
       "version_minor": 0
      },
      "text/plain": [
       "FloatProgress(value=0.0, bar_style='info', description='Progress:', layout=Layout(height='25px', width='50%'),…"
      ]
     },
     "metadata": {},
     "output_type": "display_data"
    }
   ],
   "source": [
    "\n",
    "#  UDF versions \n",
    "\n",
    "\n",
    "getDocidUDF = udf(lambda c: get_docid(c), StringType()) \n",
    "termifyUDF = udf(lambda c: termify(c), ArrayType(StringType()))   "
   ]
  },
  {
   "cell_type": "markdown",
   "id": "288315fa",
   "metadata": {},
   "source": [
    "#### The Indexing Phase\n",
    "\n",
    "All operations are packaged together into a single function, indexDocuments\n",
    "*  Accepts:  directory containing the text documents\n",
    "*  Returns:  a Data Frame with columns (term, docid, tfidf) and schema (string, string, float)"
   ]
  },
  {
   "cell_type": "code",
   "execution_count": 6,
   "id": "257a93da",
   "metadata": {},
   "outputs": [
    {
     "data": {
      "application/vnd.jupyter.widget-view+json": {
       "model_id": "701f90660ca5409fbf67a6c481fc74dc",
       "version_major": 2,
       "version_minor": 0
      },
      "text/plain": [
       "VBox()"
      ]
     },
     "metadata": {},
     "output_type": "display_data"
    },
    {
     "data": {
      "application/vnd.jupyter.widget-view+json": {
       "model_id": "",
       "version_major": 2,
       "version_minor": 0
      },
      "text/plain": [
       "FloatProgress(value=0.0, bar_style='info', description='Progress:', layout=Layout(height='25px', width='50%'),…"
      ]
     },
     "metadata": {},
     "output_type": "display_data"
    }
   ],
   "source": [
    "# RDD to read the text files (filepath, full_document_text) \n",
    "booksRDD = sc.wholeTextFiles(books_directory)"
   ]
  },
  {
   "cell_type": "code",
   "execution_count": 7,
   "id": "3f3dc05e",
   "metadata": {},
   "outputs": [
    {
     "data": {
      "application/vnd.jupyter.widget-view+json": {
       "model_id": "eb8098f7d6b84371946d90f544d496f9",
       "version_major": 2,
       "version_minor": 0
      },
      "text/plain": [
       "VBox()"
      ]
     },
     "metadata": {},
     "output_type": "display_data"
    },
    {
     "data": {
      "application/vnd.jupyter.widget-view+json": {
       "model_id": "",
       "version_major": 2,
       "version_minor": 0
      },
      "text/plain": [
       "FloatProgress(value=0.0, bar_style='info', description='Progress:', layout=Layout(height='25px', width='50%'),…"
      ]
     },
     "metadata": {},
     "output_type": "display_data"
    },
    {
     "name": "stdout",
     "output_type": "stream",
     "text": [
      "18\n",
      "+--------------------+--------------------+\n",
      "|            filename|            document|\n",
      "+--------------------+--------------------+\n",
      "|s3://aws-emr-stud...|[Emma by Jane Aus...|\n",
      "+--------------------+--------------------+\n",
      "only showing top 1 row\n",
      "\n",
      "/mnt/yarn/usercache/livy/appcache/application_1716492702455_0002/container_1716492702455_0002_01_000001/pyspark.zip/pyspark/sql/context.py:113: FutureWarning: Deprecated in 3.0.0. Use SparkSession.builder.getOrCreate() instead."
     ]
    }
   ],
   "source": [
    "# SQLContext to create a data frame from RDD.\n",
    "sq = SQLContext(sc)\n",
    "documents = sq.createDataFrame(booksRDD, StructType([StructField('filename', StringType()), \n",
    "                                                     StructField('document', StringType())]))\n",
    "print(documents.count())\n",
    "documents.show(1)"
   ]
  },
  {
   "cell_type": "code",
   "execution_count": 8,
   "id": "c2428275",
   "metadata": {
    "scrolled": true
   },
   "outputs": [
    {
     "data": {
      "application/vnd.jupyter.widget-view+json": {
       "model_id": "319b831afb244d1fbfb41c682d342f87",
       "version_major": 2,
       "version_minor": 0
      },
      "text/plain": [
       "VBox()"
      ]
     },
     "metadata": {},
     "output_type": "display_data"
    },
    {
     "data": {
      "application/vnd.jupyter.widget-view+json": {
       "model_id": "",
       "version_major": 2,
       "version_minor": 0
      },
      "text/plain": [
       "FloatProgress(value=0.0, bar_style='info', description='Progress:', layout=Layout(height='25px', width='50%'),…"
      ]
     },
     "metadata": {},
     "output_type": "display_data"
    }
   ],
   "source": [
    "# Converting the filename to a docid.  \n",
    "documents=documents.withColumn('docid', getDocidUDF(col('filename'))).drop('filename').select('docid','document')"
   ]
  },
  {
   "cell_type": "code",
   "execution_count": 9,
   "id": "959f1558",
   "metadata": {},
   "outputs": [
    {
     "data": {
      "application/vnd.jupyter.widget-view+json": {
       "model_id": "57dd07880e7743ab941c491fd7b2723c",
       "version_major": 2,
       "version_minor": 0
      },
      "text/plain": [
       "VBox()"
      ]
     },
     "metadata": {},
     "output_type": "display_data"
    },
    {
     "data": {
      "application/vnd.jupyter.widget-view+json": {
       "model_id": "",
       "version_major": 2,
       "version_minor": 0
      },
      "text/plain": [
       "FloatProgress(value=0.0, bar_style='info', description='Progress:', layout=Layout(height='25px', width='50%'),…"
      ]
     },
     "metadata": {},
     "output_type": "display_data"
    },
    {
     "name": "stdout",
     "output_type": "stream",
     "text": [
      "+-------------------+--------------------+\n",
      "|              docid|            document|\n",
      "+-------------------+--------------------+\n",
      "|        austen-emma|[Emma by Jane Aus...|\n",
      "|  austen-persuasion|[Persuasion by Ja...|\n",
      "|       austen-sense|[Sense and Sensib...|\n",
      "|          bible-kjv|[The King James B...|\n",
      "|        blake-poems|[Poems by William...|\n",
      "|     bryant-stories|[Stories to Tell ...|\n",
      "|burgess-busterbrown|[The Adventures o...|\n",
      "|      carroll-alice|[Alice's Adventur...|\n",
      "|    chesterton-ball|[The Ball and The...|\n",
      "|   chesterton-brown|[The Wisdom of Fa...|\n",
      "|chesterton-thursday|[The Man Who Was ...|\n",
      "|  edgeworth-parents|[The Parent's Ass...|\n",
      "| melville-moby_dick|[Moby Dick by Her...|\n",
      "|    milton-paradise|[Paradise Lost by...|\n",
      "| shakespeare-caesar|[The Tragedie of ...|\n",
      "| shakespeare-hamlet|[The Tragedie of ...|\n",
      "|shakespeare-macbeth|[The Tragedie of ...|\n",
      "|     whitman-leaves|[Leaves of Grass ...|\n",
      "+-------------------+--------------------+"
     ]
    }
   ],
   "source": [
    "documents.show()"
   ]
  },
  {
   "cell_type": "code",
   "execution_count": 10,
   "id": "3eee323a",
   "metadata": {},
   "outputs": [
    {
     "data": {
      "application/vnd.jupyter.widget-view+json": {
       "model_id": "5cae0c90993d4987baae6ac2821ac100",
       "version_major": 2,
       "version_minor": 0
      },
      "text/plain": [
       "VBox()"
      ]
     },
     "metadata": {},
     "output_type": "display_data"
    },
    {
     "data": {
      "application/vnd.jupyter.widget-view+json": {
       "model_id": "",
       "version_major": 2,
       "version_minor": 0
      },
      "text/plain": [
       "FloatProgress(value=0.0, bar_style='info', description='Progress:', layout=Layout(height='25px', width='50%'),…"
      ]
     },
     "metadata": {},
     "output_type": "display_data"
    },
    {
     "name": "stdout",
     "output_type": "stream",
     "text": [
      "+-------------------+--------------------+\n",
      "|              docid|               terms|\n",
      "+-------------------+--------------------+\n",
      "|        austen-emma|[emma, jane, aust...|\n",
      "|  austen-persuasion|[persuasion, jane...|\n",
      "|       austen-sense|[sense, sensibili...|\n",
      "|          bible-kjv|[king, james, bib...|\n",
      "|        blake-poems|[poems, william, ...|\n",
      "|     bryant-stories|[stories, childre...|\n",
      "|burgess-busterbrown|[adventures, bust...|\n",
      "|      carroll-alice|[alice, adventure...|\n",
      "|    chesterton-ball|[ball, cross, che...|\n",
      "|   chesterton-brown|[wisdom, father, ...|\n",
      "|chesterton-thursday|[man, thursday, c...|\n",
      "|  edgeworth-parents|[parent, assistan...|\n",
      "| melville-moby_dick|[moby, dick, herm...|\n",
      "|    milton-paradise|[paradise, lost, ...|\n",
      "| shakespeare-caesar|[tragedie, julius...|\n",
      "| shakespeare-hamlet|[tragedie, hamlet...|\n",
      "|shakespeare-macbeth|[tragedie, macbet...|\n",
      "|     whitman-leaves|[leaves, grass, w...|\n",
      "+-------------------+--------------------+"
     ]
    }
   ],
   "source": [
    "# below code runs termify on the document text.  \n",
    "documents=documents.withColumn('terms', termifyUDF(col('document'))).drop('document')\n",
    "documents.show()"
   ]
  },
  {
   "cell_type": "code",
   "execution_count": 11,
   "id": "d3ffe5b2",
   "metadata": {},
   "outputs": [
    {
     "data": {
      "application/vnd.jupyter.widget-view+json": {
       "model_id": "f350e4813f9e44d7959d4fcc848cc3a6",
       "version_major": 2,
       "version_minor": 0
      },
      "text/plain": [
       "VBox()"
      ]
     },
     "metadata": {},
     "output_type": "display_data"
    },
    {
     "data": {
      "application/vnd.jupyter.widget-view+json": {
       "model_id": "",
       "version_major": 2,
       "version_minor": 0
      },
      "text/plain": [
       "FloatProgress(value=0.0, bar_style='info', description='Progress:', layout=Layout(height='25px', width='50%'),…"
      ]
     },
     "metadata": {},
     "output_type": "display_data"
    },
    {
     "name": "stdout",
     "output_type": "stream",
     "text": [
      "+-----------+-----------+\n",
      "|      docid|       term|\n",
      "+-----------+-----------+\n",
      "|austen-emma|       emma|\n",
      "|austen-emma|       jane|\n",
      "|austen-emma|     austen|\n",
      "|austen-emma|     volume|\n",
      "|austen-emma|    chapter|\n",
      "|austen-emma|       emma|\n",
      "|austen-emma|  woodhouse|\n",
      "|austen-emma|   handsome|\n",
      "|austen-emma|     clever|\n",
      "|austen-emma|       rich|\n",
      "|austen-emma|comfortable|\n",
      "|austen-emma|       home|\n",
      "|austen-emma|      happy|\n",
      "|austen-emma|disposition|\n",
      "|austen-emma|      unite|\n",
      "|austen-emma|  blessings|\n",
      "|austen-emma|  existence|\n",
      "|austen-emma|      lived|\n",
      "|austen-emma|     twenty|\n",
      "|austen-emma|      years|\n",
      "+-----------+-----------+\n",
      "only showing top 20 rows"
     ]
    }
   ],
   "source": [
    "# below code explodes the terms to get one row per term. \n",
    "exploded = documents.withColumn('term', explode(col('terms'))).drop('terms')\n",
    "exploded.show()"
   ]
  },
  {
   "cell_type": "code",
   "execution_count": 12,
   "id": "3e310951",
   "metadata": {},
   "outputs": [
    {
     "data": {
      "application/vnd.jupyter.widget-view+json": {
       "model_id": "33c11ea70cc340c291a1b14ae2b1cf3b",
       "version_major": 2,
       "version_minor": 0
      },
      "text/plain": [
       "VBox()"
      ]
     },
     "metadata": {},
     "output_type": "display_data"
    },
    {
     "data": {
      "application/vnd.jupyter.widget-view+json": {
       "model_id": "",
       "version_major": 2,
       "version_minor": 0
      },
      "text/plain": [
       "FloatProgress(value=0.0, bar_style='info', description='Progress:', layout=Layout(height='25px', width='50%'),…"
      ]
     },
     "metadata": {},
     "output_type": "display_data"
    },
    {
     "name": "stdout",
     "output_type": "stream",
     "text": [
      "+-----------------+-----------+----------------+\n",
      "|            docid|       term|docid_term_count|\n",
      "+-----------------+-----------+----------------+\n",
      "|      austen-emma|       busy|              19|\n",
      "|      austen-emma|      feels|              10|\n",
      "|      austen-emma|application|               3|\n",
      "|      austen-emma|   luckiest|               3|\n",
      "|      austen-emma|   displays|               2|\n",
      "|      austen-emma|  overtaken|               2|\n",
      "|      austen-emma|strenuously|               1|\n",
      "|      austen-emma|     naming|               3|\n",
      "|      austen-emma|     unseen|               3|\n",
      "|      austen-emma|  objecting|               1|\n",
      "|      austen-emma|   pardoned|               1|\n",
      "|      austen-emma|    teaches|               1|\n",
      "|austen-persuasion|    shewing|               2|\n",
      "|austen-persuasion| apartments|               2|\n",
      "|     austen-sense|      defer|               4|\n",
      "|     austen-sense|     belief|               7|\n",
      "|     austen-sense|   involved|               5|\n",
      "|     austen-sense|   distrust|               7|\n",
      "|     austen-sense|  incumbent|               4|\n",
      "|     austen-sense|   goodwill|               2|\n",
      "+-----------------+-----------+----------------+\n",
      "only showing top 20 rows"
     ]
    }
   ],
   "source": [
    "# code to create data frame for term_frequency, where we group by 'docid' and 'term' and count within each group.\n",
    "term_frequency = exploded.select('docid', 'term').\\\n",
    "    groupBy(col('docid'),col('term')).\\\n",
    "    count().withColumnRenamed('count', 'docid_term_count')\n",
    "term_frequency.show()"
   ]
  },
  {
   "cell_type": "code",
   "execution_count": 13,
   "id": "73514008",
   "metadata": {},
   "outputs": [
    {
     "data": {
      "application/vnd.jupyter.widget-view+json": {
       "model_id": "527637b695b64516981ceae2247920ec",
       "version_major": 2,
       "version_minor": 0
      },
      "text/plain": [
       "VBox()"
      ]
     },
     "metadata": {},
     "output_type": "display_data"
    },
    {
     "data": {
      "application/vnd.jupyter.widget-view+json": {
       "model_id": "",
       "version_major": 2,
       "version_minor": 0
      },
      "text/plain": [
       "FloatProgress(value=0.0, bar_style='info', description='Progress:', layout=Layout(height='25px', width='50%'),…"
      ]
     },
     "metadata": {},
     "output_type": "display_data"
    },
    {
     "name": "stdout",
     "output_type": "stream",
     "text": [
      "+-------------------+-----------+\n",
      "|              docid|docid_count|\n",
      "+-------------------+-----------+\n",
      "|       austen-sense|      40397|\n",
      "|  austen-persuasion|      28637|\n",
      "|        austen-emma|      53278|\n",
      "|          bible-kjv|     294290|\n",
      "| melville-moby_dick|      90784|\n",
      "|    chesterton-ball|      31125|\n",
      "|  edgeworth-parents|      59871|\n",
      "|    milton-paradise|      38991|\n",
      "|shakespeare-macbeth|       8647|\n",
      "|        blake-poems|       3302|\n",
      "|burgess-busterbrown|       5694|\n",
      "|chesterton-thursday|      22139|\n",
      "|     bryant-stories|      16432|\n",
      "|     whitman-leaves|      56168|\n",
      "|      carroll-alice|       8773|\n",
      "| shakespeare-hamlet|      13509|\n",
      "|   chesterton-brown|      27908|\n",
      "| shakespeare-caesar|       9443|\n",
      "+-------------------+-----------+"
     ]
    }
   ],
   "source": [
    "# code creates a data frame for document_size\n",
    "document_size = exploded.groupBy('docid') \\\n",
    "                         .count().withColumnRenamed('count', 'docid_count')\n",
    "\n",
    "document_size.show()"
   ]
  },
  {
   "cell_type": "code",
   "execution_count": 14,
   "id": "3054c296",
   "metadata": {},
   "outputs": [
    {
     "data": {
      "application/vnd.jupyter.widget-view+json": {
       "model_id": "04b98c7f90a34f8191dabd8a2c57eb8f",
       "version_major": 2,
       "version_minor": 0
      },
      "text/plain": [
       "VBox()"
      ]
     },
     "metadata": {},
     "output_type": "display_data"
    },
    {
     "data": {
      "application/vnd.jupyter.widget-view+json": {
       "model_id": "",
       "version_major": 2,
       "version_minor": 0
      },
      "text/plain": [
       "FloatProgress(value=0.0, bar_style='info', description='Progress:', layout=Layout(height='25px', width='50%'),…"
      ]
     },
     "metadata": {},
     "output_type": "display_data"
    },
    {
     "name": "stdout",
     "output_type": "stream",
     "text": [
      "+------------+-----------+----------------+-----------+\n",
      "|       docid|       term|docid_term_count|docid_count|\n",
      "+------------+-----------+----------------+-----------+\n",
      "|austen-sense|     beasts|               1|      40397|\n",
      "|austen-sense|   meantime|               1|      40397|\n",
      "|austen-sense|     apiece|               1|      40397|\n",
      "|austen-sense|   hitherto|               8|      40397|\n",
      "|austen-sense|   accident|               5|      40397|\n",
      "|austen-sense|   interest|              47|      40397|\n",
      "|austen-sense|     davies|               2|      40397|\n",
      "|austen-sense|    leagued|               1|      40397|\n",
      "|austen-sense|      penny|               2|      40397|\n",
      "|austen-sense|     nieces|               1|      40397|\n",
      "|austen-sense|  midsummer|               1|      40397|\n",
      "|austen-sense|   weakness|               4|      40397|\n",
      "|austen-sense| dissolving|               1|      40397|\n",
      "|austen-sense|  treatment|               5|      40397|\n",
      "|austen-sense|     urgent|               5|      40397|\n",
      "|austen-sense|  declining|               6|      40397|\n",
      "|austen-sense|    affixed|               1|      40397|\n",
      "|austen-sense|   outweigh|               3|      40397|\n",
      "|austen-sense|     lament|               1|      40397|\n",
      "|austen-sense|perfections|               1|      40397|\n",
      "+------------+-----------+----------------+-----------+\n",
      "only showing top 20 rows"
     ]
    }
   ],
   "source": [
    "# code normalizes term frequency by joining term_frequency and document_size, dividing, and multipling\n",
    "    \n",
    "    # by 1000000.0. \n",
    "joint = term_frequency.join(document_size, \"docid\")\n",
    "joint.show()"
   ]
  },
  {
   "cell_type": "code",
   "execution_count": 15,
   "id": "cff4e9ed",
   "metadata": {},
   "outputs": [
    {
     "data": {
      "application/vnd.jupyter.widget-view+json": {
       "model_id": "8aa573f2a6db469787560103c37bfca4",
       "version_major": 2,
       "version_minor": 0
      },
      "text/plain": [
       "VBox()"
      ]
     },
     "metadata": {},
     "output_type": "display_data"
    },
    {
     "data": {
      "application/vnd.jupyter.widget-view+json": {
       "model_id": "",
       "version_major": 2,
       "version_minor": 0
      },
      "text/plain": [
       "FloatProgress(value=0.0, bar_style='info', description='Progress:', layout=Layout(height='25px', width='50%'),…"
      ]
     },
     "metadata": {},
     "output_type": "display_data"
    },
    {
     "name": "stdout",
     "output_type": "stream",
     "text": [
      "+------------+-----------+----------------+-----------+------------------+\n",
      "|       docid|       term|docid_term_count|docid_count|          tfnormed|\n",
      "+------------+-----------+----------------+-----------+------------------+\n",
      "|austen-sense|     beasts|               1|      40397|24.754313439116768|\n",
      "|austen-sense|   meantime|               1|      40397|24.754313439116768|\n",
      "|austen-sense|     apiece|               1|      40397|24.754313439116768|\n",
      "|austen-sense|   hitherto|               8|      40397|198.03450751293414|\n",
      "|austen-sense|   accident|               5|      40397|123.77156719558383|\n",
      "|austen-sense|   interest|              47|      40397| 1163.452731638488|\n",
      "|austen-sense|     davies|               2|      40397|49.508626878233535|\n",
      "|austen-sense|    leagued|               1|      40397|24.754313439116768|\n",
      "|austen-sense|      penny|               2|      40397|49.508626878233535|\n",
      "|austen-sense|     nieces|               1|      40397|24.754313439116768|\n",
      "|austen-sense|  midsummer|               1|      40397|24.754313439116768|\n",
      "|austen-sense|   weakness|               4|      40397| 99.01725375646707|\n",
      "|austen-sense| dissolving|               1|      40397|24.754313439116768|\n",
      "|austen-sense|  treatment|               5|      40397|123.77156719558383|\n",
      "|austen-sense|     urgent|               5|      40397|123.77156719558383|\n",
      "|austen-sense|  declining|               6|      40397| 148.5258806347006|\n",
      "|austen-sense|    affixed|               1|      40397|24.754313439116768|\n",
      "|austen-sense|   outweigh|               3|      40397|  74.2629403173503|\n",
      "|austen-sense|     lament|               1|      40397|24.754313439116768|\n",
      "|austen-sense|perfections|               1|      40397|24.754313439116768|\n",
      "+------------+-----------+----------------+-----------+------------------+\n",
      "only showing top 20 rows"
     ]
    }
   ],
   "source": [
    "\n",
    "# Normalizing the term frequency\n",
    "normalized_df = joint.withColumn(\n",
    "    'tfnormed', \n",
    "    (col('docid_term_count') / col('docid_count')) * 1000000.0\n",
    ")\n",
    "\n",
    "normalized_df.show()"
   ]
  },
  {
   "cell_type": "code",
   "execution_count": 16,
   "id": "2c221025",
   "metadata": {},
   "outputs": [
    {
     "data": {
      "application/vnd.jupyter.widget-view+json": {
       "model_id": "d20736550f2b46259e36f20b3425ad72",
       "version_major": 2,
       "version_minor": 0
      },
      "text/plain": [
       "VBox()"
      ]
     },
     "metadata": {},
     "output_type": "display_data"
    },
    {
     "data": {
      "application/vnd.jupyter.widget-view+json": {
       "model_id": "",
       "version_major": 2,
       "version_minor": 0
      },
      "text/plain": [
       "FloatProgress(value=0.0, bar_style='info', description='Progress:', layout=Layout(height='25px', width='50%'),…"
      ]
     },
     "metadata": {},
     "output_type": "display_data"
    },
    {
     "name": "stdout",
     "output_type": "stream",
     "text": [
      "+------------+-----------+------------------+\n",
      "|       docid|       term|          tfnormed|\n",
      "+------------+-----------+------------------+\n",
      "|austen-sense|     beasts|24.754313439116768|\n",
      "|austen-sense|   meantime|24.754313439116768|\n",
      "|austen-sense|     apiece|24.754313439116768|\n",
      "|austen-sense|   hitherto|198.03450751293414|\n",
      "|austen-sense|   accident|123.77156719558383|\n",
      "|austen-sense|   interest| 1163.452731638488|\n",
      "|austen-sense|     davies|49.508626878233535|\n",
      "|austen-sense|    leagued|24.754313439116768|\n",
      "|austen-sense|      penny|49.508626878233535|\n",
      "|austen-sense|     nieces|24.754313439116768|\n",
      "|austen-sense|  midsummer|24.754313439116768|\n",
      "|austen-sense|   weakness| 99.01725375646707|\n",
      "|austen-sense| dissolving|24.754313439116768|\n",
      "|austen-sense|  treatment|123.77156719558383|\n",
      "|austen-sense|     urgent|123.77156719558383|\n",
      "|austen-sense|  declining| 148.5258806347006|\n",
      "|austen-sense|    affixed|24.754313439116768|\n",
      "|austen-sense|   outweigh|  74.2629403173503|\n",
      "|austen-sense|     lament|24.754313439116768|\n",
      "|austen-sense|perfections|24.754313439116768|\n",
      "+------------+-----------+------------------+\n",
      "only showing top 20 rows"
     ]
    }
   ],
   "source": [
    "# Selecting the required columns\n",
    "result_df = normalized_df.select('docid', 'term', 'tfnormed')\n",
    "\n",
    "# Showing the result\n",
    "result_df.show()\n"
   ]
  },
  {
   "cell_type": "code",
   "execution_count": 17,
   "id": "de0a3433",
   "metadata": {},
   "outputs": [
    {
     "data": {
      "application/vnd.jupyter.widget-view+json": {
       "model_id": "e45a3337a1f44df597a297d77888ccd3",
       "version_major": 2,
       "version_minor": 0
      },
      "text/plain": [
       "VBox()"
      ]
     },
     "metadata": {},
     "output_type": "display_data"
    },
    {
     "data": {
      "application/vnd.jupyter.widget-view+json": {
       "model_id": "",
       "version_major": 2,
       "version_minor": 0
      },
      "text/plain": [
       "FloatProgress(value=0.0, bar_style='info', description='Progress:', layout=Layout(height='25px', width='50%'),…"
      ]
     },
     "metadata": {},
     "output_type": "display_data"
    },
    {
     "name": "stdout",
     "output_type": "stream",
     "text": [
      "StructType([StructField('docid', StringType(), True), StructField('term', StringType(), True), StructField('tfnormed', DoubleType(), True)])"
     ]
    }
   ],
   "source": [
    "result_df.schema"
   ]
  },
  {
   "cell_type": "code",
   "execution_count": 18,
   "id": "0ed54f27",
   "metadata": {},
   "outputs": [
    {
     "data": {
      "application/vnd.jupyter.widget-view+json": {
       "model_id": "37f49f694c20426c9ac4b7f693eac2da",
       "version_major": 2,
       "version_minor": 0
      },
      "text/plain": [
       "VBox()"
      ]
     },
     "metadata": {},
     "output_type": "display_data"
    },
    {
     "data": {
      "application/vnd.jupyter.widget-view+json": {
       "model_id": "",
       "version_major": 2,
       "version_minor": 0
      },
      "text/plain": [
       "FloatProgress(value=0.0, bar_style='info', description='Progress:', layout=Layout(height='25px', width='50%'),…"
      ]
     },
     "metadata": {},
     "output_type": "display_data"
    },
    {
     "name": "stdout",
     "output_type": "stream",
     "text": [
      "StructType([StructField('docid', StringType(), True), StructField('term', StringType(), True), StructField('tfnormed', FloatType(), True)])"
     ]
    }
   ],
   "source": [
    "result_df = result_df.withColumn(\"tfnormed\", col(\"tfnormed\").cast(\"float\"))\n",
    "result_df.schema"
   ]
  },
  {
   "cell_type": "code",
   "execution_count": 19,
   "id": "9b541ebc",
   "metadata": {},
   "outputs": [
    {
     "data": {
      "application/vnd.jupyter.widget-view+json": {
       "model_id": "c3de4004424b42a880ea62d338078b2d",
       "version_major": 2,
       "version_minor": 0
      },
      "text/plain": [
       "VBox()"
      ]
     },
     "metadata": {},
     "output_type": "display_data"
    },
    {
     "data": {
      "application/vnd.jupyter.widget-view+json": {
       "model_id": "",
       "version_major": 2,
       "version_minor": 0
      },
      "text/plain": [
       "FloatProgress(value=0.0, bar_style='info', description='Progress:', layout=Layout(height='25px', width='50%'),…"
      ]
     },
     "metadata": {},
     "output_type": "display_data"
    },
    {
     "name": "stdout",
     "output_type": "stream",
     "text": [
      "+---------+-------------+\n",
      "|     term|num_documents|\n",
      "+---------+-------------+\n",
      "|    spoil|           11|\n",
      "|  elevate|            4|\n",
      "|     elsa|            1|\n",
      "|unworldly|            2|\n",
      "|  lyrical|            2|\n",
      "|     hope|           17|\n",
      "|   brands|            3|\n",
      "|  embrace|            9|\n",
      "|  courted|            2|\n",
      "|   outfit|            2|\n",
      "|     curv|            1|\n",
      "|colmekill|            1|\n",
      "|  highest|           14|\n",
      "|   speedy|            6|\n",
      "| laughing|           14|\n",
      "|     fain|            4|\n",
      "|    parts|           14|\n",
      "|    hurry|           12|\n",
      "|sceptical|            3|\n",
      "|    staff|            9|\n",
      "+---------+-------------+\n",
      "only showing top 20 rows"
     ]
    }
   ],
   "source": [
    "  # code to create a dataframe to capture document_frequency (number of documents a term appears in)\n",
    "document_frequency = term_frequency.groupBy('term') \\\n",
    "                         .count().withColumnRenamed('count', 'num_documents')\n",
    "document_frequency.show()"
   ]
  },
  {
   "cell_type": "code",
   "execution_count": 20,
   "id": "ac9b30f5",
   "metadata": {},
   "outputs": [
    {
     "data": {
      "application/vnd.jupyter.widget-view+json": {
       "model_id": "28c8a78c53c5448aa5fe25fb60798b8b",
       "version_major": 2,
       "version_minor": 0
      },
      "text/plain": [
       "VBox()"
      ]
     },
     "metadata": {},
     "output_type": "display_data"
    },
    {
     "data": {
      "application/vnd.jupyter.widget-view+json": {
       "model_id": "",
       "version_major": 2,
       "version_minor": 0
      },
      "text/plain": [
       "FloatProgress(value=0.0, bar_style='info', description='Progress:', layout=Layout(height='25px', width='50%'),…"
      ]
     },
     "metadata": {},
     "output_type": "display_data"
    },
    {
     "name": "stdout",
     "output_type": "stream",
     "text": [
      "+---------+-------------------+---------+-------------+\n",
      "|     term|              docid| tfnormed|num_documents|\n",
      "+---------+-------------------+---------+-------------+\n",
      "|    spoil|   chesterton-brown| 35.83202|           11|\n",
      "|    spoil|burgess-busterbrown|351.24692|           11|\n",
      "|    spoil|        blake-poems|302.84677|           11|\n",
      "|    spoil|    milton-paradise|76.940834|           11|\n",
      "|    spoil|  edgeworth-parents|133.62062|           11|\n",
      "|    spoil|    chesterton-ball|32.128513|           11|\n",
      "|    spoil| melville-moby_dick|44.060627|           11|\n",
      "|    spoil|          bible-kjv|400.96503|           11|\n",
      "|    spoil|        austen-emma|18.769474|           11|\n",
      "|    spoil|  austen-persuasion|34.919857|           11|\n",
      "|    spoil|       austen-sense|49.508625|           11|\n",
      "|  elevate|    milton-paradise|25.646944|            4|\n",
      "|  elevate| melville-moby_dick|11.015157|            4|\n",
      "|  elevate|        austen-emma|37.538948|            4|\n",
      "|  elevate|  austen-persuasion|34.919857|            4|\n",
      "|     elsa|     bryant-stories|1338.8511|            1|\n",
      "|unworldly|   chesterton-brown| 35.83202|            2|\n",
      "|unworldly|    chesterton-ball| 64.25703|            2|\n",
      "|  lyrical|chesterton-thursday| 45.16916|            2|\n",
      "|  lyrical|    chesterton-ball|32.128513|            2|\n",
      "+---------+-------------------+---------+-------------+\n",
      "only showing top 20 rows"
     ]
    }
   ],
   "source": [
    "jointnew = result_df.join(document_frequency, \"term\")\n",
    "jointnew.show()"
   ]
  },
  {
   "cell_type": "code",
   "execution_count": 21,
   "id": "92c3384f",
   "metadata": {},
   "outputs": [
    {
     "data": {
      "application/vnd.jupyter.widget-view+json": {
       "model_id": "0941ded068874dccbfd15e91e668caae",
       "version_major": 2,
       "version_minor": 0
      },
      "text/plain": [
       "VBox()"
      ]
     },
     "metadata": {},
     "output_type": "display_data"
    },
    {
     "data": {
      "application/vnd.jupyter.widget-view+json": {
       "model_id": "",
       "version_major": 2,
       "version_minor": 0
      },
      "text/plain": [
       "FloatProgress(value=0.0, bar_style='info', description='Progress:', layout=Layout(height='25px', width='50%'),…"
      ]
     },
     "metadata": {},
     "output_type": "display_data"
    },
    {
     "name": "stdout",
     "output_type": "stream",
     "text": [
      "+---------+-------------------+------------------+\n",
      "|     term|              docid|             tfidf|\n",
      "+---------+-------------------+------------------+\n",
      "|    spoil|   chesterton-brown| 3.257456345991655|\n",
      "|    spoil|burgess-busterbrown| 31.93153797496449|\n",
      "|    spoil|        blake-poems|27.531524658203125|\n",
      "|    spoil|    milton-paradise| 6.994621276855469|\n",
      "|    spoil|  edgeworth-parents|12.147329157049006|\n",
      "|    spoil|    chesterton-ball|2.9207739396528765|\n",
      "|    spoil| melville-moby_dick| 4.005511543967507|\n",
      "|    spoil|          bible-kjv| 36.45136607776988|\n",
      "|    spoil|        austen-emma| 1.706315820867365|\n",
      "|    spoil|  austen-persuasion|3.1745324568314985|\n",
      "|    spoil|       austen-sense| 4.500784093683416|\n",
      "|  elevate|    milton-paradise| 6.411736011505127|\n",
      "|  elevate| melville-moby_dick| 2.753789186477661|\n",
      "|  elevate|        austen-emma| 9.384737014770508|\n",
      "|  elevate|  austen-persuasion| 8.729964256286621|\n",
      "|     elsa|     bryant-stories|  1338.85107421875|\n",
      "|unworldly|   chesterton-brown|  17.9160099029541|\n",
      "|unworldly|    chesterton-ball| 32.12851333618164|\n",
      "|  lyrical|chesterton-thursday|22.584579467773438|\n",
      "|  lyrical|    chesterton-ball| 16.06425666809082|\n",
      "+---------+-------------------+------------------+\n",
      "only showing top 20 rows"
     ]
    }
   ],
   "source": [
    "tfidf = jointnew.withColumn(\n",
    "    'tfidf', \n",
    "    col('tfnormed') / col('num_documents')\n",
    ").select('term', 'docid', 'tfidf')\n",
    "\n",
    "tfidf.show()"
   ]
  },
  {
   "cell_type": "code",
   "execution_count": 22,
   "id": "ac343b40",
   "metadata": {},
   "outputs": [
    {
     "data": {
      "application/vnd.jupyter.widget-view+json": {
       "model_id": "2f2de1943303421290550fbc20e54b44",
       "version_major": 2,
       "version_minor": 0
      },
      "text/plain": [
       "VBox()"
      ]
     },
     "metadata": {},
     "output_type": "display_data"
    },
    {
     "data": {
      "application/vnd.jupyter.widget-view+json": {
       "model_id": "",
       "version_major": 2,
       "version_minor": 0
      },
      "text/plain": [
       "FloatProgress(value=0.0, bar_style='info', description='Progress:', layout=Layout(height='25px', width='50%'),…"
      ]
     },
     "metadata": {},
     "output_type": "display_data"
    },
    {
     "name": "stdout",
     "output_type": "stream",
     "text": [
      "StructType([StructField('term', StringType(), True), StructField('docid', StringType(), True), StructField('tfidf', DoubleType(), True)])"
     ]
    }
   ],
   "source": [
    "tfidf.schema"
   ]
  },
  {
   "cell_type": "code",
   "execution_count": 23,
   "id": "795c0ea6",
   "metadata": {},
   "outputs": [
    {
     "data": {
      "application/vnd.jupyter.widget-view+json": {
       "model_id": "6846c95d71a04baeaa95b9459eed646b",
       "version_major": 2,
       "version_minor": 0
      },
      "text/plain": [
       "VBox()"
      ]
     },
     "metadata": {},
     "output_type": "display_data"
    },
    {
     "data": {
      "application/vnd.jupyter.widget-view+json": {
       "model_id": "",
       "version_major": 2,
       "version_minor": 0
      },
      "text/plain": [
       "FloatProgress(value=0.0, bar_style='info', description='Progress:', layout=Layout(height='25px', width='50%'),…"
      ]
     },
     "metadata": {},
     "output_type": "display_data"
    },
    {
     "name": "stdout",
     "output_type": "stream",
     "text": [
      "StructType([StructField('term', StringType(), True), StructField('docid', StringType(), True), StructField('tfidf', FloatType(), True)])"
     ]
    }
   ],
   "source": [
    "tfidf = tfidf.withColumn(\"tfidf\", col(\"tfidf\").cast(\"float\"))\n",
    "tfidf.schema"
   ]
  },
  {
   "cell_type": "code",
   "execution_count": 24,
   "id": "adbcd821",
   "metadata": {},
   "outputs": [
    {
     "data": {
      "application/vnd.jupyter.widget-view+json": {
       "model_id": "edf0f2bf2d6340e5868ec5f9fe4c4577",
       "version_major": 2,
       "version_minor": 0
      },
      "text/plain": [
       "VBox()"
      ]
     },
     "metadata": {},
     "output_type": "display_data"
    },
    {
     "data": {
      "application/vnd.jupyter.widget-view+json": {
       "model_id": "",
       "version_major": 2,
       "version_minor": 0
      },
      "text/plain": [
       "FloatProgress(value=0.0, bar_style='info', description='Progress:', layout=Layout(height='25px', width='50%'),…"
      ]
     },
     "metadata": {},
     "output_type": "display_data"
    }
   ],
   "source": [
    "def indexDocuments(path):\n",
    "    # RDD to read the text files (filepath, full_document_text) \n",
    "    booksRDD = sc.wholeTextFiles(path)\n",
    "    # SQLContext to create a data frame from RDD.\n",
    "    sq = SQLContext(sc)\n",
    "    documents = sq.createDataFrame(booksRDD, StructType([StructField('filename', StringType()), \n",
    "                                                     StructField('document', StringType())]))\n",
    "\n",
    "  \n",
    "    \n",
    "    # Converting the filename to a docid.  \n",
    "\n",
    "    documents=documents.withColumn('docid', getDocidUDF(col('filename'))).drop('filename').select('docid','document')\n",
    "\n",
    "    # below code runs termify on the document text.  \n",
    "    documents=documents.withColumn('terms', termifyUDF(col('document'))).drop('document')\n",
    "\n",
    "    \n",
    "    # below code explodes the terms to get one row per term.  \n",
    "    exploded = documents.withColumn('term', explode(col('terms'))).drop('terms')\n",
    "    # code to create data frame for term_frequency, where we group by 'docid' and 'term' and count within each group.\n",
    "    term_frequency = exploded.select('docid', 'term').\\\n",
    "    groupBy(col('docid'),col('term')).\\\n",
    "    count().withColumnRenamed('count', 'docid_term_count')\n",
    "  \n",
    "    \n",
    "    # code creates a data frame for document_size\n",
    "    document_size = exploded.groupBy('docid') \\\n",
    "                         .count().withColumnRenamed('count', 'docid_count')\n",
    "    # code normalizes term frequency by joining term_frequency and document_size, dividing, and multipling\n",
    "    \n",
    "    # by 1000000.0.  \n",
    "    joint = term_frequency.join(document_size, \"docid\")\n",
    "    normalized_df = joint.withColumn(\n",
    "    'tfnormed', \n",
    "    (col('docid_term_count') / col('docid_count')) * 1000000.0\n",
    "    )\n",
    "    result_df = normalized_df.select('docid', 'term', 'tfnormed')\n",
    "    result_df = result_df.withColumn(\"tfnormed\", col(\"tfnormed\").cast(\"float\"))\n",
    "    # code to create a dataframe to capture document_frequency (number of documents a term appears in)\n",
    "   \n",
    "    document_frequency = term_frequency.groupBy('term') \\\n",
    "                         .count().withColumnRenamed('count', 'num_documents')\n",
    "\n",
    " \n",
    "    jointnew = result_df.join(document_frequency, \"term\")\n",
    "    tfidf = jointnew.withColumn(\n",
    "    'tfidf', \n",
    "    col('tfnormed') / col('num_documents')\n",
    "    ).select('term', 'docid', 'tfidf')\n",
    "    tfidf = tfidf.withColumn(\"tfidf\", col(\"tfidf\").cast(\"float\"))\n",
    "\n",
    "    return tfidf\n"
   ]
  },
  {
   "cell_type": "code",
   "execution_count": 25,
   "id": "2149f32a",
   "metadata": {},
   "outputs": [
    {
     "data": {
      "application/vnd.jupyter.widget-view+json": {
       "model_id": "641f01cf8e9a43bda16b29876dc6f298",
       "version_major": 2,
       "version_minor": 0
      },
      "text/plain": [
       "VBox()"
      ]
     },
     "metadata": {},
     "output_type": "display_data"
    },
    {
     "data": {
      "application/vnd.jupyter.widget-view+json": {
       "model_id": "",
       "version_major": 2,
       "version_minor": 0
      },
      "text/plain": [
       "FloatProgress(value=0.0, bar_style='info', description='Progress:', layout=Layout(height='25px', width='50%'),…"
      ]
     },
     "metadata": {},
     "output_type": "display_data"
    },
    {
     "name": "stdout",
     "output_type": "stream",
     "text": [
      "+---------+-------------------+---------+\n",
      "|     term|              docid|    tfidf|\n",
      "+---------+-------------------+---------+\n",
      "|    spoil|   chesterton-brown|3.2574563|\n",
      "|    spoil|burgess-busterbrown|31.931538|\n",
      "|    spoil|        blake-poems|27.531525|\n",
      "|    spoil|    milton-paradise|6.9946213|\n",
      "|    spoil|  edgeworth-parents|12.147329|\n",
      "|    spoil|    chesterton-ball| 2.920774|\n",
      "|    spoil| melville-moby_dick|4.0055118|\n",
      "|    spoil|          bible-kjv|36.451366|\n",
      "|    spoil|        austen-emma|1.7063159|\n",
      "|    spoil|  austen-persuasion|3.1745324|\n",
      "|    spoil|       austen-sense| 4.500784|\n",
      "|  elevate|    milton-paradise| 6.411736|\n",
      "|  elevate| melville-moby_dick|2.7537892|\n",
      "|  elevate|        austen-emma| 9.384737|\n",
      "|  elevate|  austen-persuasion| 8.729964|\n",
      "|     elsa|     bryant-stories|1338.8511|\n",
      "|unworldly|   chesterton-brown| 17.91601|\n",
      "|unworldly|    chesterton-ball|32.128513|\n",
      "|  lyrical|chesterton-thursday| 22.58458|\n",
      "|  lyrical|    chesterton-ball|16.064257|\n",
      "+---------+-------------------+---------+\n",
      "only showing top 20 rows"
     ]
    }
   ],
   "source": [
    "indexDocuments('s3://aws-emr-studio-247682200909-us-east-1/1716433985675/e-83ZVZCJXCP2R95V5BUL2OEQDY/books/').show()"
   ]
  },
  {
   "cell_type": "code",
   "execution_count": 26,
   "id": "4e190dbc",
   "metadata": {},
   "outputs": [
    {
     "data": {
      "application/vnd.jupyter.widget-view+json": {
       "model_id": "2bfd0ffe32474b14858be9cd06cc93b1",
       "version_major": 2,
       "version_minor": 0
      },
      "text/plain": [
       "VBox()"
      ]
     },
     "metadata": {},
     "output_type": "display_data"
    },
    {
     "data": {
      "application/vnd.jupyter.widget-view+json": {
       "model_id": "",
       "version_major": 2,
       "version_minor": 0
      },
      "text/plain": [
       "FloatProgress(value=0.0, bar_style='info', description='Progress:', layout=Layout(height='25px', width='50%'),…"
      ]
     },
     "metadata": {},
     "output_type": "display_data"
    },
    {
     "name": "stdout",
     "output_type": "stream",
     "text": [
      "DataFrame[term: string, docid: string, tfidf: float]"
     ]
    }
   ],
   "source": [
    "\n",
    "index = indexDocuments(books_directory)\n",
    "index.cache()"
   ]
  },
  {
   "cell_type": "code",
   "execution_count": 27,
   "id": "75717e9c",
   "metadata": {},
   "outputs": [
    {
     "data": {
      "application/vnd.jupyter.widget-view+json": {
       "model_id": "51df228f45ac47f5923368d4eef7ac0d",
       "version_major": 2,
       "version_minor": 0
      },
      "text/plain": [
       "VBox()"
      ]
     },
     "metadata": {},
     "output_type": "display_data"
    },
    {
     "data": {
      "application/vnd.jupyter.widget-view+json": {
       "model_id": "",
       "version_major": 2,
       "version_minor": 0
      },
      "text/plain": [
       "FloatProgress(value=0.0, bar_style='info', description='Progress:', layout=Layout(height='25px', width='50%'),…"
      ]
     },
     "metadata": {},
     "output_type": "display_data"
    },
    {
     "name": "stdout",
     "output_type": "stream",
     "text": [
      "+----------+-------------------+---------+\n",
      "|      term|              docid|    tfidf|\n",
      "+----------+-------------------+---------+\n",
      "|abruptness|       austen-sense|4.9508624|\n",
      "|abruptness|    chesterton-ball|12.851405|\n",
      "|abruptness|chesterton-thursday| 9.033832|\n",
      "|abruptness|   chesterton-brown| 7.166404|\n",
      "|abruptness|        austen-emma|3.7538948|\n",
      "+----------+-------------------+---------+\n",
      "only showing top 5 rows"
     ]
    }
   ],
   "source": [
    "# Just verify that the frame holds plausible data (right columns, right data types, reasonable values)\n",
    "index.show(5)"
   ]
  },
  {
   "cell_type": "markdown",
   "id": "b213cafc",
   "metadata": {},
   "source": [
    "#### Relevance Calculation\n",
    "\n",
    "Relevance is a relationship between a \"query\" -- a string of words, and the index.\n",
    "The query is parsed (termified) using the same function as was used to index documents.\n",
    "Then in the Spark framework TFIDF value is computed for the query terms for all documents and the top N are selected\n"
   ]
  },
  {
   "cell_type": "code",
   "execution_count": 28,
   "id": "f213e83c",
   "metadata": {},
   "outputs": [
    {
     "data": {
      "application/vnd.jupyter.widget-view+json": {
       "model_id": "8ac569b827d0442bb53fbd29c1824740",
       "version_major": 2,
       "version_minor": 0
      },
      "text/plain": [
       "VBox()"
      ]
     },
     "metadata": {},
     "output_type": "display_data"
    },
    {
     "data": {
      "application/vnd.jupyter.widget-view+json": {
       "model_id": "",
       "version_major": 2,
       "version_minor": 0
      },
      "text/plain": [
       "FloatProgress(value=0.0, bar_style='info', description='Progress:', layout=Layout(height='25px', width='50%'),…"
      ]
     },
     "metadata": {},
     "output_type": "display_data"
    }
   ],
   "source": [
    "term_list=termify(\"buster, whale, king, and alice the rabbit!\")"
   ]
  },
  {
   "cell_type": "code",
   "execution_count": 29,
   "id": "bfb10765",
   "metadata": {},
   "outputs": [
    {
     "data": {
      "application/vnd.jupyter.widget-view+json": {
       "model_id": "9a2103d38aa249eda2121e5d26d633eb",
       "version_major": 2,
       "version_minor": 0
      },
      "text/plain": [
       "VBox()"
      ]
     },
     "metadata": {},
     "output_type": "display_data"
    },
    {
     "data": {
      "application/vnd.jupyter.widget-view+json": {
       "model_id": "",
       "version_major": 2,
       "version_minor": 0
      },
      "text/plain": [
       "FloatProgress(value=0.0, bar_style='info', description='Progress:', layout=Layout(height='25px', width='50%'),…"
      ]
     },
     "metadata": {},
     "output_type": "display_data"
    },
    {
     "name": "stdout",
     "output_type": "stream",
     "text": [
      "5"
     ]
    }
   ],
   "source": [
    "terms_df = spark.createDataFrame([term for term in term_list], StringType()).toDF(\"term\")\n",
    "\n",
    "terms_df.count()"
   ]
  },
  {
   "cell_type": "code",
   "execution_count": 30,
   "id": "4a4c34e3",
   "metadata": {},
   "outputs": [
    {
     "data": {
      "application/vnd.jupyter.widget-view+json": {
       "model_id": "a4f60b31656f451593951caca0176645",
       "version_major": 2,
       "version_minor": 0
      },
      "text/plain": [
       "VBox()"
      ]
     },
     "metadata": {},
     "output_type": "display_data"
    },
    {
     "data": {
      "application/vnd.jupyter.widget-view+json": {
       "model_id": "",
       "version_major": 2,
       "version_minor": 0
      },
      "text/plain": [
       "FloatProgress(value=0.0, bar_style='info', description='Progress:', layout=Layout(height='25px', width='50%'),…"
      ]
     },
     "metadata": {},
     "output_type": "display_data"
    },
    {
     "name": "stdout",
     "output_type": "stream",
     "text": [
      "StructType([StructField('term', StringType(), True)])"
     ]
    }
   ],
   "source": [
    "terms_df.schema"
   ]
  },
  {
   "cell_type": "code",
   "execution_count": 31,
   "id": "dd81c4b6",
   "metadata": {},
   "outputs": [
    {
     "data": {
      "application/vnd.jupyter.widget-view+json": {
       "model_id": "cbb140d05ff74d1688519fc871479829",
       "version_major": 2,
       "version_minor": 0
      },
      "text/plain": [
       "VBox()"
      ]
     },
     "metadata": {},
     "output_type": "display_data"
    },
    {
     "data": {
      "application/vnd.jupyter.widget-view+json": {
       "model_id": "",
       "version_major": 2,
       "version_minor": 0
      },
      "text/plain": [
       "FloatProgress(value=0.0, bar_style='info', description='Progress:', layout=Layout(height='25px', width='50%'),…"
      ]
     },
     "metadata": {},
     "output_type": "display_data"
    },
    {
     "name": "stdout",
     "output_type": "stream",
     "text": [
      "+------+-------------------+---------+\n",
      "|  term|              docid|    tfidf|\n",
      "+------+-------------------+---------+\n",
      "| alice|      carroll-alice|15122.155|\n",
      "| alice|  edgeworth-parents|11.135052|\n",
      "| alice|chesterton-thursday|15.056386|\n",
      "|buster|     whitman-leaves| 8.901866|\n",
      "|buster|burgess-busterbrown|20108.887|\n",
      "|rabbit|    chesterton-ball|21.419008|\n",
      "|rabbit|      carroll-alice|968.88184|\n",
      "|rabbit|burgess-busterbrown|321.97635|\n",
      "|rabbit|chesterton-thursday| 7.528193|\n",
      "|rabbit|     bryant-stories|101.42811|\n",
      "|rabbit|   chesterton-brown| 17.91601|\n",
      "|  king|          bible-kjv| 576.0758|\n",
      "|  king|     whitman-leaves| 4.747662|\n",
      "|  king|        blake-poems|20.189785|\n",
      "|  king| melville-moby_dick|   46.998|\n",
      "|  king|    chesterton-ball|21.419008|\n",
      "|  king|      carroll-alice| 478.7416|\n",
      "|  king|  edgeworth-parents|16.702578|\n",
      "|  king| shakespeare-hamlet|848.81683|\n",
      "|  king|chesterton-thursday|18.067663|\n",
      "+------+-------------------+---------+\n",
      "only showing top 20 rows"
     ]
    }
   ],
   "source": [
    "index.join(terms_df, \"term\").show()"
   ]
  },
  {
   "cell_type": "code",
   "execution_count": 32,
   "id": "e336e421",
   "metadata": {},
   "outputs": [
    {
     "data": {
      "application/vnd.jupyter.widget-view+json": {
       "model_id": "3f9d934bac7248d7a88cc4af503ea600",
       "version_major": 2,
       "version_minor": 0
      },
      "text/plain": [
       "VBox()"
      ]
     },
     "metadata": {},
     "output_type": "display_data"
    },
    {
     "data": {
      "application/vnd.jupyter.widget-view+json": {
       "model_id": "",
       "version_major": 2,
       "version_minor": 0
      },
      "text/plain": [
       "FloatProgress(value=0.0, bar_style='info', description='Progress:', layout=Layout(height='25px', width='50%'),…"
      ]
     },
     "metadata": {},
     "output_type": "display_data"
    },
    {
     "name": "stdout",
     "output_type": "stream",
     "text": [
      "StructType([StructField('term', StringType(), True), StructField('docid', StringType(), True), StructField('tfidf', FloatType(), True)])"
     ]
    }
   ],
   "source": [
    "index.schema"
   ]
  },
  {
   "cell_type": "code",
   "execution_count": 33,
   "id": "17fe367f",
   "metadata": {},
   "outputs": [
    {
     "data": {
      "application/vnd.jupyter.widget-view+json": {
       "model_id": "b8fcff0793494857a49e80a525bb8941",
       "version_major": 2,
       "version_minor": 0
      },
      "text/plain": [
       "VBox()"
      ]
     },
     "metadata": {},
     "output_type": "display_data"
    },
    {
     "data": {
      "application/vnd.jupyter.widget-view+json": {
       "model_id": "",
       "version_major": 2,
       "version_minor": 0
      },
      "text/plain": [
       "FloatProgress(value=0.0, bar_style='info', description='Progress:', layout=Layout(height='25px', width='50%'),…"
      ]
     },
     "metadata": {},
     "output_type": "display_data"
    },
    {
     "name": "stdout",
     "output_type": "stream",
     "text": [
      "StructType([StructField('term', StringType(), True), StructField('docid', StringType(), True), StructField('tfidf', FloatType(), True)])"
     ]
    }
   ],
   "source": [
    "# Joining the query with the tfidf data frame, then grouping by docid and sum the tfidf values.\n",
    "jointnew =index.join(terms_df, \"term\")\n",
    "jointnew.schema"
   ]
  },
  {
   "cell_type": "code",
   "execution_count": 34,
   "id": "28ad4027",
   "metadata": {},
   "outputs": [
    {
     "data": {
      "application/vnd.jupyter.widget-view+json": {
       "model_id": "69254c3875354af4b74d59d9c258d63a",
       "version_major": 2,
       "version_minor": 0
      },
      "text/plain": [
       "VBox()"
      ]
     },
     "metadata": {},
     "output_type": "display_data"
    },
    {
     "data": {
      "application/vnd.jupyter.widget-view+json": {
       "model_id": "",
       "version_major": 2,
       "version_minor": 0
      },
      "text/plain": [
       "FloatProgress(value=0.0, bar_style='info', description='Progress:', layout=Layout(height='25px', width='50%'),…"
      ]
     },
     "metadata": {},
     "output_type": "display_data"
    },
    {
     "name": "stdout",
     "output_type": "stream",
     "text": [
      "+-------------------+-----+\n",
      "|              docid|score|\n",
      "+-------------------+-----+\n",
      "|burgess-busterbrown| 4086|\n",
      "|     whitman-leaves|    5|\n",
      "| melville-moby_dick|  459|\n",
      "|    chesterton-ball|   10|\n",
      "|     bryant-stories|  167|\n",
      "|          bible-kjv|  115|\n",
      "| shakespeare-hamlet|  174|\n",
      "|  edgeworth-parents|    5|\n",
      "|    milton-paradise|   16|\n",
      "|shakespeare-macbeth|   84|\n",
      "|        blake-poems|    4|\n",
      "|chesterton-thursday|    8|\n",
      "|        austen-emma|    0|\n",
      "|      carroll-alice| 3313|\n",
      "|   chesterton-brown|   13|\n",
      "| shakespeare-caesar|    5|\n",
      "+-------------------+-----+"
     ]
    }
   ],
   "source": [
    "# Dividing by the number of query terms\n",
    "jointnew=jointnew.groupBy('docid') \\\n",
    "                     .agg((sum('tfidf') / terms_df.count()).alias('score')).withColumn(\"score\", col(\"score\").cast(\"int\"))\n",
    "jointnew.show()"
   ]
  },
  {
   "cell_type": "code",
   "execution_count": 35,
   "id": "e5021719",
   "metadata": {},
   "outputs": [
    {
     "data": {
      "application/vnd.jupyter.widget-view+json": {
       "model_id": "bf2c1733c65546959648bb5a090decb2",
       "version_major": 2,
       "version_minor": 0
      },
      "text/plain": [
       "VBox()"
      ]
     },
     "metadata": {},
     "output_type": "display_data"
    },
    {
     "data": {
      "application/vnd.jupyter.widget-view+json": {
       "model_id": "",
       "version_major": 2,
       "version_minor": 0
      },
      "text/plain": [
       "FloatProgress(value=0.0, bar_style='info', description='Progress:', layout=Layout(height='25px', width='50%'),…"
      ]
     },
     "metadata": {},
     "output_type": "display_data"
    },
    {
     "name": "stdout",
     "output_type": "stream",
     "text": [
      "+-------------------+-----+\n",
      "|              docid|score|\n",
      "+-------------------+-----+\n",
      "|burgess-busterbrown| 4086|\n",
      "|      carroll-alice| 3313|\n",
      "| melville-moby_dick|  459|\n",
      "| shakespeare-hamlet|  174|\n",
      "|     bryant-stories|  167|\n",
      "|          bible-kjv|  115|\n",
      "|shakespeare-macbeth|   84|\n",
      "|    milton-paradise|   16|\n",
      "|   chesterton-brown|   13|\n",
      "|    chesterton-ball|   10|\n",
      "+-------------------+-----+"
     ]
    }
   ],
   "source": [
    "# Sorting the data frame in descending order of score, and taking the first 10.\n",
    "top_10_scores_df = jointnew.orderBy(col(\"score\").desc()).limit(10)\n",
    "\n",
    "# Show the top 10 scores\n",
    "top_10_scores_df.show()"
   ]
  },
  {
   "cell_type": "code",
   "execution_count": 36,
   "id": "d69c072a",
   "metadata": {},
   "outputs": [
    {
     "data": {
      "application/vnd.jupyter.widget-view+json": {
       "model_id": "2ed4ec09cf974535bbcac1ef3cd8c1cf",
       "version_major": 2,
       "version_minor": 0
      },
      "text/plain": [
       "VBox()"
      ]
     },
     "metadata": {},
     "output_type": "display_data"
    },
    {
     "data": {
      "application/vnd.jupyter.widget-view+json": {
       "model_id": "",
       "version_major": 2,
       "version_minor": 0
      },
      "text/plain": [
       "FloatProgress(value=0.0, bar_style='info', description='Progress:', layout=Layout(height='25px', width='50%'),…"
      ]
     },
     "metadata": {},
     "output_type": "display_data"
    },
    {
     "name": "stdout",
     "output_type": "stream",
     "text": [
      "[('burgess-busterbrown', 4086), ('carroll-alice', 3313), ('melville-moby_dick', 459), ('shakespeare-hamlet', 174), ('bryant-stories', 167), ('bible-kjv', 115), ('shakespeare-macbeth', 84), ('milton-paradise', 16), ('chesterton-brown', 13), ('chesterton-ball', 10)]"
     ]
    }
   ],
   "source": [
    "result_tuples = [(row.docid, row.score) for row in top_10_scores_df.collect()]\n",
    "result_tuples"
   ]
  },
  {
   "cell_type": "code",
   "execution_count": null,
   "id": "d72a1362",
   "metadata": {},
   "outputs": [],
   "source": []
  },
  {
   "cell_type": "code",
   "execution_count": null,
   "id": "f8b181c1",
   "metadata": {},
   "outputs": [],
   "source": []
  },
  {
   "cell_type": "code",
   "execution_count": 37,
   "id": "1ca6d969",
   "metadata": {},
   "outputs": [
    {
     "data": {
      "application/vnd.jupyter.widget-view+json": {
       "model_id": "90cd473df2404b8db6ba669cf9e5ad7b",
       "version_major": 2,
       "version_minor": 0
      },
      "text/plain": [
       "VBox()"
      ]
     },
     "metadata": {},
     "output_type": "display_data"
    },
    {
     "data": {
      "application/vnd.jupyter.widget-view+json": {
       "model_id": "",
       "version_major": 2,
       "version_minor": 0
      },
      "text/plain": [
       "FloatProgress(value=0.0, bar_style='info', description='Progress:', layout=Layout(height='25px', width='50%'),…"
      ]
     },
     "metadata": {},
     "output_type": "display_data"
    }
   ],
   "source": [
    "# Inputs:\n",
    "#    The query string (a string)\n",
    "#    The index (a Data Frame in the form produced by indexDocuments)\n",
    "\n",
    "#\n",
    "# Output:\n",
    "#    A (Python) list of at most 10 tuples of the form (docid, relevance) which are the N most relevant documents\n",
    "#     for the query, along with the relevance value for each document\n",
    "\n",
    "\n",
    "\n",
    "\n",
    "def relevance(query, tfidf):\n",
    "    \n",
    "    \n",
    "\n",
    "    term_list=termify(query)\n",
    "    terms_df = spark.createDataFrame([term for term in term_list], StringType()).toDF(\"term\")\n",
    "    # Joining the query with the tfidf data frame, then grouping by docid and sum the tfidf values.\n",
    "    \n",
    "    jointnew =tfidf.join(terms_df, \"term\")\n",
    "    # Dividing by the number of query terms\n",
    "    jointnew=jointnew.groupBy('docid') \\\n",
    "                     .agg((sum('tfidf') / terms_df.count()).alias('score')).withColumn(\"score\", col(\"score\").cast(\"int\"))\n",
    "    # Sorting the data frame in descending order of score, and taking the first 10.\n",
    "    top_10_scores_df = jointnew.orderBy(col(\"score\").desc()).limit(10)\n",
    "    result_tuples = [(row.docid, row.score) for row in top_10_scores_df.collect()]\n",
    "    return result_tuples\n"
   ]
  },
  {
   "cell_type": "code",
   "execution_count": 38,
   "id": "eb0529a1",
   "metadata": {},
   "outputs": [
    {
     "data": {
      "application/vnd.jupyter.widget-view+json": {
       "model_id": "e17fa4a8e4ae4b9eb4ae2244ab4e73f4",
       "version_major": 2,
       "version_minor": 0
      },
      "text/plain": [
       "VBox()"
      ]
     },
     "metadata": {},
     "output_type": "display_data"
    },
    {
     "data": {
      "application/vnd.jupyter.widget-view+json": {
       "model_id": "",
       "version_major": 2,
       "version_minor": 0
      },
      "text/plain": [
       "FloatProgress(value=0.0, bar_style='info', description='Progress:', layout=Layout(height='25px', width='50%'),…"
      ]
     },
     "metadata": {},
     "output_type": "display_data"
    },
    {
     "name": "stdout",
     "output_type": "stream",
     "text": [
      "[('chesterton-brown', 11), ('chesterton-ball', 7), ('shakespeare-hamlet', 4), ('bryant-stories', 3), ('whitman-leaves', 3), ('melville-moby_dick', 2), ('chesterton-thursday', 2), ('austen-sense', 1), ('austen-persuasion', 1)]"
     ]
    }
   ],
   "source": [
    "# A single-query test\n",
    "print(relevance(\"relevance test!\", index))"
   ]
  },
  {
   "cell_type": "code",
   "execution_count": 39,
   "id": "40cece4a",
   "metadata": {},
   "outputs": [
    {
     "data": {
      "application/vnd.jupyter.widget-view+json": {
       "model_id": "11c2ad1524954efdaf8950f772e317bf",
       "version_major": 2,
       "version_minor": 0
      },
      "text/plain": [
       "VBox()"
      ]
     },
     "metadata": {},
     "output_type": "display_data"
    },
    {
     "data": {
      "application/vnd.jupyter.widget-view+json": {
       "model_id": "",
       "version_major": 2,
       "version_minor": 0
      },
      "text/plain": [
       "FloatProgress(value=0.0, bar_style='info', description='Progress:', layout=Layout(height='25px', width='50%'),…"
      ]
     },
     "metadata": {},
     "output_type": "display_data"
    },
    {
     "name": "stdout",
     "output_type": "stream",
     "text": [
      "buster, whale, king, and alice the rabbit!\n",
      "    ('burgess-busterbrown', 4086)\n",
      "    ('carroll-alice', 3313)\n",
      "    ('melville-moby_dick', 459)\n",
      "    ('shakespeare-hamlet', 174)\n",
      "    ('bryant-stories', 167)\n",
      "    ('bible-kjv', 115)\n",
      "    ('shakespeare-macbeth', 84)\n",
      "    ('milton-paradise', 16)\n",
      "    ('chesterton-brown', 13)\n",
      "    ('chesterton-ball', 10)\n",
      "Take a whale to lunch this week!\n",
      "    ('melville-moby_dick', 751)\n",
      "    ('bryant-stories', 64)\n",
      "    ('burgess-busterbrown', 35)\n",
      "    ('austen-persuasion', 25)\n",
      "    ('austen-sense', 23)\n",
      "    ('chesterton-brown', 20)\n",
      "    ('chesterton-thursday', 15)\n",
      "    ('austen-emma', 15)\n",
      "    ('edgeworth-parents', 12)\n",
      "    ('carroll-alice', 9)\n",
      "What would Jesus do about that?\n",
      "    ('bible-kjv', 668)\n",
      "    ('blake-poems', 60)\n",
      "    ('milton-paradise', 10)\n",
      "    ('chesterton-ball', 6)\n",
      "    ('melville-moby_dick', 2)\n",
      "My name is Buster.  Deal with it.\n",
      "    ('burgess-busterbrown', 10108)\n",
      "    ('austen-emma', 66)\n",
      "    ('austen-persuasion', 60)\n",
      "    ('carroll-alice', 52)\n",
      "    ('austen-sense', 31)\n",
      "    ('edgeworth-parents', 26)\n",
      "    ('chesterton-brown', 20)\n",
      "    ('bryant-stories', 18)\n",
      "    ('chesterton-ball', 9)\n",
      "    ('bible-kjv', 7)\n",
      "Bodice ripper?\n",
      "    ('chesterton-ball', 16)\n",
      "Why does it have to be sense AND sensibility, why can't it be sense OR sensibility\n",
      "    ('austen-sense', 55)\n",
      "    ('chesterton-thursday', 50)\n",
      "    ('austen-emma', 46)\n",
      "    ('austen-persuasion', 36)\n",
      "    ('chesterton-brown', 32)\n",
      "    ('chesterton-ball', 27)\n",
      "    ('burgess-busterbrown', 27)\n",
      "    ('milton-paradise', 24)\n",
      "    ('edgeworth-parents', 21)\n",
      "    ('bryant-stories', 11)\n",
      "What are leaves of grass anyway?\n",
      "    ('blake-poems', 101)\n",
      "    ('bryant-stories', 100)\n",
      "    ('whitman-leaves', 73)\n",
      "    ('carroll-alice', 40)\n",
      "    ('chesterton-thursday', 30)\n",
      "    ('chesterton-ball', 28)\n",
      "    ('chesterton-brown', 24)\n",
      "    ('milton-paradise', 19)\n",
      "    ('burgess-busterbrown', 17)\n",
      "    ('melville-moby_dick', 13)\n",
      "??!?\n",
      "    No results for this query"
     ]
    }
   ],
   "source": [
    "## Testing multiple queries.\n",
    "\n",
    "for query in [\"buster, whale, king, and alice the rabbit!\",\n",
    "              \"Take a whale to lunch this week!\",\n",
    "              \"What would Jesus do about that?\",\n",
    "              \"My name is Buster.  Deal with it.\",\n",
    "              \"Bodice ripper?\",\n",
    "              \"Why does it have to be sense AND sensibility, why can't it be sense OR sensibility\",\n",
    "              \"What are leaves of grass anyway?\",\n",
    "              \"??!?\"]:\n",
    "    print(query)\n",
    "    tuples = relevance(query, index)\n",
    "    if len(tuples) == 0:\n",
    "        print(\"    No results for this query\")\n",
    "    else:\n",
    "        for tuple in relevance(query, index):\n",
    "            print(\"    \" + str(tuple))"
   ]
  },
  {
   "cell_type": "code",
   "execution_count": null,
   "id": "074c72a7",
   "metadata": {},
   "outputs": [],
   "source": []
  }
 ],
 "metadata": {
  "kernelspec": {
   "display_name": "PySpark",
   "language": "python",
   "name": "pysparkkernel"
  },
  "language_info": {
   "codemirror_mode": {
    "name": "python",
    "version": 3
   },
   "file_extension": ".py",
   "mimetype": "text/x-python",
   "name": "pyspark",
   "pygments_lexer": "python3"
  }
 },
 "nbformat": 4,
 "nbformat_minor": 5
}
