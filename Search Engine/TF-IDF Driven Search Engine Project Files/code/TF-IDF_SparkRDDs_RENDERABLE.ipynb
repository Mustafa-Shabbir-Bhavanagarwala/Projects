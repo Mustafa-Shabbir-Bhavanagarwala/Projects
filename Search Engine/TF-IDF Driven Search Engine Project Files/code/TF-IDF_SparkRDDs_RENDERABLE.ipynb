{
 "cells": [
  {
   "cell_type": "code",
   "execution_count": 1,
   "id": "411f3a37",
   "metadata": {},
   "outputs": [
    {
     "data": {
      "application/vnd.jupyter.widget-view+json": {
       "model_id": "a5eaed38481e4228ab67811a5a508c8a",
       "version_major": 2,
       "version_minor": 0
      },
      "text/plain": [
       "VBox()"
      ]
     },
     "metadata": {},
     "output_type": "display_data"
    },
    {
     "name": "stdout",
     "output_type": "stream",
     "text": [
      "Starting Spark application\n"
     ]
    },
    {
     "data": {
      "text/html": [
       "<table>\n",
       "<tr><th>ID</th><th>YARN Application ID</th><th>Kind</th><th>State</th><th>Spark UI</th><th>Driver log</th><th>User</th><th>Current session?</th></tr><tr><td>1</td><td>application_1716063535994_0002</td><td>pyspark</td><td>idle</td><td><a target=\"_blank\" href=\"http://ip-172-31-65-20.ec2.internal:20888/proxy/application_1716063535994_0002/\" class=\"emr-proxy-link\" emr-resource=\"j-1JWB3D4SE51PK\n",
       "\" application-id=\"application_1716063535994_0002\">Link</a></td><td><a target=\"_blank\" href=\"http://ip-172-31-78-122.ec2.internal:8042/node/containerlogs/container_1716063535994_0002_01_000001/livy\" >Link</a></td><td>None</td><td>✔</td></tr></table>"
      ],
      "text/plain": [
       "<IPython.core.display.HTML object>"
      ]
     },
     "metadata": {},
     "output_type": "display_data"
    },
    {
     "data": {
      "application/vnd.jupyter.widget-view+json": {
       "model_id": "",
       "version_major": 2,
       "version_minor": 0
      },
      "text/plain": [
       "FloatProgress(value=0.0, bar_style='info', description='Progress:', layout=Layout(height='25px', width='50%'),…"
      ]
     },
     "metadata": {},
     "output_type": "display_data"
    },
    {
     "name": "stdout",
     "output_type": "stream",
     "text": [
      "SparkSession available as 'spark'.\n"
     ]
    },
    {
     "data": {
      "application/vnd.jupyter.widget-view+json": {
       "model_id": "",
       "version_major": 2,
       "version_minor": 0
      },
      "text/plain": [
       "FloatProgress(value=0.0, bar_style='info', description='Progress:', layout=Layout(height='25px', width='50%'),…"
      ]
     },
     "metadata": {},
     "output_type": "display_data"
    },
    {
     "name": "stdout",
     "output_type": "stream",
     "text": [
      "<SparkContext master=yarn appName=livy-session-1>"
     ]
    }
   ],
   "source": [
    "sc"
   ]
  },
  {
   "cell_type": "code",
   "execution_count": 2,
   "id": "caefd39f",
   "metadata": {},
   "outputs": [
    {
     "data": {
      "application/vnd.jupyter.widget-view+json": {
       "model_id": "42cd08caf6424a4f9b16a151c3f26a32",
       "version_major": 2,
       "version_minor": 0
      },
      "text/plain": [
       "VBox()"
      ]
     },
     "metadata": {},
     "output_type": "display_data"
    },
    {
     "data": {
      "application/vnd.jupyter.widget-view+json": {
       "model_id": "",
       "version_major": 2,
       "version_minor": 0
      },
      "text/plain": [
       "FloatProgress(value=0.0, bar_style='info', description='Progress:', layout=Layout(height='25px', width='50%'),…"
      ]
     },
     "metadata": {},
     "output_type": "display_data"
    }
   ],
   "source": [
    "\n",
    "\n",
    "import re\n",
    "\n",
    "stopwords = set([\"a\", \"as\", \"able\", \"about\", \"above\", \"according\", \"accordingly\",\n",
    "\t     \"across\", \"actually\", \"after\", \"afterwards\", \"again\", \"against\", \"aint\", \"all\", \"allow\",\n",
    "\t     \"allows\", \"almost\", \"alone\", \"along\", \"already\", \"also\", \"although\", \"always\", \"am\", \"among\",\n",
    "\t     \"amongst\", \"an\", \"and\", \"another\", \"any\", \"anybody\", \"anyhow\", \"anyone\", \"anything\", \"anyway\",\n",
    "\t     \"anyways\", \"anywhere\", \"apart\", \"appear\",\"appreciate\", \"appropriate\", \"are\", \"arent\", \"around\",\n",
    "\t     \"as\", \"aside\", \"ask\", \"asking\", \"associated\", \"at\", \"available\", \"away\", \"awfully\", \"be\", \"became\",\n",
    "\t     \"because\", \"become\", \"becomes\", \"becoming\", \"been\", \"before\", \"beforehand\", \"behind\",\n",
    "\t     \"being\", \"believe\", \"below\", \"beside\", \"besides\", \"best\", \"better\", \"between\", \"beyond\",\n",
    "\t     \"both\", \"brief\", \"but\", \"by\", \"cmon\", \"cs\", \"came\", \"can\", \"cant\", \"cannot\", \"cant\",\n",
    "\t     \"cause\", \"causes\", \"certain\", \"certainly\", \"changes\", \"clearly\", \"co\", \"com\", \"come\",\n",
    "\t     \"comes\", \"concerning\", \"consequently\", \"consider\", \"considering\", \"contain\", \"containing\",\n",
    "\t     \"contains\", \"corresponding\", \"could\", \"couldnt\", \"course\", \"currently\", \"definitely\",\n",
    "\t     \"described\", \"despite\", \"did\", \"didnt\", \"different\", \"do\", \"does\", \"doesnt\", \"doing\",\n",
    "\t     \"dont\", \"done\", \"down\", \"downwards\", \"during\", \"each\", \"edu\", \"eg\", \"eight\", \"either\",\n",
    "\t     \"else\", \"elsewhere\", \"enough\", \"entirely\", \"especially\", \"et\", \"etc\", \"even\", \"ever\",\n",
    "\t     \"every\", \"everybody\", \"everyone\", \"everything\", \"everywhere\", \"ex\", \"exactly\", \"example\",\n",
    "\t     \"except\", \"far\", \"few\", \"ff\", \"fifth\", \"first\", \"five\", \"followed\", \"following\", \"follows\",\n",
    "\t     \"for\", \"former\", \"formerly\", \"forth\", \"four\", \"from\", \"further\", \"furthermore\", \"get\",\n",
    "\t     \"gets\", \"getting\", \"given\", \"gives\", \"go\", \"goes\", \"going\", \"gone\", \"got\", \"gotten\",\n",
    "\t     \"greetings\", \"had\", \"hadnt\", \"happens\", \"hardly\", \"has\", \"hasnt\", \"have\", \"havent\",\n",
    "\t     \"having\", \"he\", \"hes\", \"hello\", \"help\", \"hence\", \"her\", \"here\", \"heres\", \"hereafter\",\n",
    "\t     \"hereby\", \"herein\", \"hereupon\", \"hers\", \"herself\", \"hi\", \"him\", \"himself\",\n",
    "\t     \"his\", \"hither\", \"hopefully\", \"how\", \"howbeit\", \"however\", \"i\", \"id\", \"ill\", \"im\", \"ive\",\n",
    "\t     \"ie\", \"if\", \"ignored\", \"immediate\", \"in\", \"inasmuch\", \"inc\", \"indeed\", \"indicate\",\n",
    "\t     \"indicated\", \"indicates\", \"inner\", \"insofar\", \"instead\", \"into\", \"inward\", \"is\",\n",
    "\t     \"isnt\", \"it\", \"itd\", \"itll\", \"its\", \"its\", \"itself\", \"just\", \"keep\", \"keeps\", \"kept\",\n",
    "\t     \"know\", \"knows\", \"known\", \"last\", \"lately\", \"later\", \"latter\", \"latterly\", \"least\",\n",
    "\t     \"less\", \"lest\", \"let\", \"lets\", \"like\", \"liked\", \"likely\", \"little\", \"look\", \"looking\",\n",
    "\t     \"looks\", \"ltd\", \"mainly\", \"many\", \"may\", \"maybe\", \"me\", \"mean\", \"meanwhile\", \"merely\",\n",
    "\t     \"might\", \"more\", \"moreover\", \"most\", \"mostly\", \"much\", \"must\", \"my\", \"myself\",\n",
    "\t     \"name\", \"namely\", \"nd\", \"near\", \"nearly\", \"necessary\", \"need\", \"needs\", \"neither\",\n",
    "\t     \"never\", \"nevertheless\", \"new\", \"next\", \"nine\", \"no\", \"nobody\", \"non\", \"none\", \"noone\",\n",
    "\t     \"nor\", \"normally\", \"not\", \"nothing\", \"novel\", \"now\", \"nowhere\", \"obviously\", \"of\",\n",
    "\t     \"off\", \"often\", \"oh\", \"ok\", \"okay\", \"old\", \"on\", \"once\", \"one\", \"ones\", \"only\",\n",
    "\t     \"onto\", \"or\", \"other\", \"others\", \"otherwise\", \"ought\", \"our\", \"ours\", \"ourselves\",\n",
    "\t     \"out\", \"outside\", \"over\", \"overall\", \"own\", \"particular\", \"particularly\",\n",
    "\t     \"per\", \"perhaps\", \"placed\", \"please\", \"plus\", \"possible\", \"presumably\", \"probably\",\n",
    "\t     \"provides\", \"que\", \"quite\", \"qv\", \"rather\", \"rd\", \"re\", \"really\", \"reasonably\",\n",
    "\t     \"regarding\", \"regardless\", \"regards\", \"relatively\", \"respectively\", \"right\", \"said\",\n",
    "\t     \"same\", \"saw\", \"say\", \"saying\", \"says\", \"second\", \"secondly\", \"see\", \"seeing\",\n",
    "\t     \"seem\", \"seemed\", \"seeming\", \"seems\", \"seen\", \"self\", \"selves\", \"sensible\", \"sent\",\n",
    "\t     \"serious\", \"seriously\", \"seven\", \"several\", \"shall\", \"she\", \"should\", \"shouldnt\",\n",
    "\t     \"since\", \"six\", \"so\", \"some\", \"somebody\", \"somehow\", \"someone\", \"something\",\n",
    "\t     \"sometime\", \"sometimes\", \"somewhat\", \"somewhere\", \"soon\", \"sorry\", \"specified\", \"specify\",\n",
    "\t     \"specifying\", \"still\", \"sub\", \"such\", \"sup\", \"sure\", \"ts\", \"take\", \"taken\", \"tell\", \"tends\",\n",
    "\t     \"th\", \"than\", \"thank\", \"thanks\", \"thanx\", \"that\", \"thats\", \"thats\", \"the\", \"their\", \"theirs\",\n",
    "\t     \"them\", \"themselves\", \"then\", \"thence\", \"there\", \"theres\", \"thereafter\", \"thereby\",\n",
    "\t     \"therefore\", \"therein\", \"theres\", \"thereupon\", \"these\", \"they\", \"theyd\",\n",
    "\t     \"theyll\", \"theyre\", \"theyve\", \"think\", \"third\", \"this\", \"thorough\",\n",
    "\t     \"thoroughly\", \"those\", \"though\", \"three\", \"through\", \"throughout\", \"thru\",\n",
    "\t     \"thus\", \"to\", \"together\", \"too\", \"took\", \"toward\", \"towards\", \"tried\", \"tries\",\n",
    "\t     \"truly\", \"try\", \"trying\", \"twice\", \"two\", \"un\", \"under\", \"unfortunately\",\n",
    "\t     \"unless\", \"unlikely\", \"until\", \"unto\", \"up\", \"upon\", \"us\", \"use\", \"used\",\n",
    "\t     \"useful\", \"uses\", \"using\", \"usually\", \"value\", \"various\", \"very\", \"via\", \"viz\",\n",
    "\t     \"vs\", \"want\", \"wants\", \"was\", \"wasnt\", \"way\", \"we\", \"wed\", \"well\", \"were\", \"weve\",\n",
    "\t     \"welcome\", \"well\", \"went\", \"were\", \"werent\", \"what\", \"whats\", \"whatever\", \"when\",\n",
    "\t     \"whence\", \"whenever\", \"where\", \"wheres\", \"whereafter\", \"whereas\", \"whereby\",\n",
    "\t     \"wherein\", \"whereupon\", \"wherever\", \"whether\", \"which\", \"while\", \"whither\", \"who\",\n",
    "\t     \"whos\", \"whoever\", \"whole\", \"whom\", \"whose\", \"why\", \"will\", \"willing\", \"wish\",\n",
    "\t     \"with\", \"within\", \"without\", \"wont\", \"wonder\", \"would\", \"would\", \"wouldnt\", \"yes\",\n",
    "\t     \"yet\", \"you\", \"youd\", \"youll\", \"youre\", \"youve\", \"your\", \"yours\", \"yourself\",\n",
    "\t     \"yourselves\", \"zero\"])\n",
    "\n",
    "def termify(line):\n",
    "    terms = []\n",
    "    words = re.findall(r'[^\\W_]+', line)\n",
    "    for word in words:\n",
    "        lowered = word.lower()\n",
    "        if (len(lowered) > 1) and (lowered not in stopwords) and (not re.search(r'^\\d*$', lowered)):\n",
    "            terms.append(lowered)\n",
    "    return terms\n"
   ]
  },
  {
   "cell_type": "code",
   "execution_count": 3,
   "id": "e0aff30c",
   "metadata": {},
   "outputs": [
    {
     "data": {
      "application/vnd.jupyter.widget-view+json": {
       "model_id": "e31d08c58a1d4cbbb03fc7e6e739cba8",
       "version_major": 2,
       "version_minor": 0
      },
      "text/plain": [
       "VBox()"
      ]
     },
     "metadata": {},
     "output_type": "display_data"
    },
    {
     "data": {
      "application/vnd.jupyter.widget-view+json": {
       "model_id": "",
       "version_major": 2,
       "version_minor": 0
      },
      "text/plain": [
       "FloatProgress(value=0.0, bar_style='info', description='Progress:', layout=Layout(height='25px', width='50%'),…"
      ]
     },
     "metadata": {},
     "output_type": "display_data"
    }
   ],
   "source": [
    "\n",
    "# point to S3 location for this folder\n",
    "tfidf=sc.wholeTextFiles('s3://aws-emr-studio-247682200909-us-east-1/1716062555134/e-8AZYNSASTJA7YMJE429MQZSN8/textcorpora/')"
   ]
  },
  {
   "cell_type": "code",
   "execution_count": 4,
   "id": "86529fe8",
   "metadata": {},
   "outputs": [
    {
     "data": {
      "application/vnd.jupyter.widget-view+json": {
       "model_id": "661c2dea58af43198cbdb92023e5c666",
       "version_major": 2,
       "version_minor": 0
      },
      "text/plain": [
       "VBox()"
      ]
     },
     "metadata": {},
     "output_type": "display_data"
    },
    {
     "data": {
      "application/vnd.jupyter.widget-view+json": {
       "model_id": "",
       "version_major": 2,
       "version_minor": 0
      },
      "text/plain": [
       "FloatProgress(value=0.0, bar_style='info', description='Progress:', layout=Layout(height='25px', width='50%'),…"
      ]
     },
     "metadata": {},
     "output_type": "display_data"
    }
   ],
   "source": [
    "# function to get a docid from a file path\n",
    "def get_docid(filepath):\n",
    "    return filepath.split('/')[-1][: -4]"
   ]
  },
  {
   "cell_type": "markdown",
   "id": "926bd6a9",
   "metadata": {},
   "source": [
    "#### \n",
    "below codes read the document corpus (directory) and produces TF-IDF values for each (term, doc-id) pair using Spark RDDs in every phase \n"
   ]
  },
  {
   "cell_type": "code",
   "execution_count": 6,
   "id": "e94ce2a2",
   "metadata": {},
   "outputs": [
    {
     "data": {
      "application/vnd.jupyter.widget-view+json": {
       "model_id": "ab433f5a20c346a8861b77b8cfcfd905",
       "version_major": 2,
       "version_minor": 0
      },
      "text/plain": [
       "VBox()"
      ]
     },
     "metadata": {},
     "output_type": "display_data"
    },
    {
     "data": {
      "application/vnd.jupyter.widget-view+json": {
       "model_id": "",
       "version_major": 2,
       "version_minor": 0
      },
      "text/plain": [
       "FloatProgress(value=0.0, bar_style='info', description='Progress:', layout=Layout(height='25px', width='50%'),…"
      ]
     },
     "metadata": {},
     "output_type": "display_data"
    },
    {
     "name": "stdout",
     "output_type": "stream",
     "text": [
      "('s3://aws-emr-studio-247682200909-us-east-1/1716062555134/e-8AZYNSASTJA7YMJE429MQZSN8/textcorpora/austen-emma.txt', '[Emma by Jane Austen 1816]\\n\\nVOLUME I\\n\\nCHAPTER I\\n\\n\\nEmma Woodhouse, handsome, clever, and rich, with a comfortable home\\nand happy disposition, seemed to unite some of the best blessings\\nof existence; and had lived nearly twenty-one years in the world\\nwith very little to distress or vex her.\\n\\nShe was the youngest of the two daughters of a most affectionate,\\nindulgent father; and had, in consequence of her sister\\'s marriage,\\nbeen mistress of his house from a very early period.  Her mother\\nhad died too long ago for her to have more than an indistinct\\nremembrance of her caresses; and her place had been supplied\\nby an excellent woman as governess, who had fallen little short\\nof a mother in affection.\\n\\nSixteen years had Miss Taylor been in Mr. Woodhouse\\'s family,\\nless as a governess than a friend, very fond of both daughters,\\nbut particularly of Emma.  Between _them_ it was more the intimacy\\nof sisters.  Even before Miss Taylor had ceased to hold the nominal\\noffice of governess, the mildness of her temper had hardly allowed\\nher to impose any restraint; and the shadow of authority being\\nnow long passed away, they had been living together as friend and\\nfriend very mutually attached, and Emma doing just what she liked;\\nhighly esteeming Miss Taylor\\'s judgment, but directed chiefly by\\nher own.\\n\\nThe real evils, indeed, of Emma\\'s situation were the power of having\\nrather too much her own way, and a disposition to think a little\\ntoo well of herself; these were the disadvantages which threatened\\nalloy to her many enjoyments.  The danger, however, was at present\\nso unperceived, that they did not by any means rank as misfortunes\\nwith her.\\n\\nSorrow came--a gentle sorrow--but not at all in the shape of any\\ndisagreeable consciousness.--Miss Taylor married.  It was Miss\\nTaylor\\'s loss which first brought grief.  It was on the wedding-day\\nof this beloved friend that Emma first sat in mournful thought\\nof any continuance.  The wedding over, and the bride-people gone,\\nher father and herself were left to dine together, with no prospect\\nof a third to cheer a long evening.  Her father composed himself\\nto sleep after dinner, as usual, and she had then only to sit\\nand think of what she had lost.\\n\\nThe event had every promise of happiness for her friend.  Mr. Weston\\nwas a man of unexceptionable character, easy fortune, suitable age,\\nand pleasant manners; and there was some satisfaction in considering\\nwith what self-denying, generous friendship she had always wished\\nand promoted the match; but it was a black morning\\'s work for her.\\nThe want of Miss Taylor would be felt every hour of every day.\\nShe recalled her past kindness--the kindness, the affection of sixteen\\nyears--how she had taught and how she had played with her from five\\nyears old--how she had devoted all her powers to attach and amuse\\nher in health--and how nursed her through the various illnesses\\nof childhood.  A large debt of gratitude was owing here; but the\\nintercourse of the last seven years, the equal footing and perfect\\nunreserve which had soon followed Isabella\\'s marriage, on their\\nbeing left to each other, was yet a dearer, tenderer recollection.\\nShe had been a friend and companion such as few possessed: intelligent,\\nwell-informed, useful, gentle, knowing all the ways of the family,\\ninterested in all its concerns, and peculiarly interested in herself,\\nin every pleasure, every scheme of hers--one to whom she could speak\\nevery thought as it arose, and who had such an affection for her\\nas could never find fault.\\n\\nHow was she to bear the change?--It was true that her friend was\\ngoing only half a mile from them; but Emma was aware that great must\\nbe the difference between a Mrs. Weston, only half a mile from them,\\nand a Miss Taylor in the house; and with all her advantages,\\nnatural and domestic, she was now in great danger of suffering\\nfrom intellectual solitude.  She dearly loved her father, but he\\nwas no companion for her.  He could not meet her in conversation,\\nrational or playful.\\n\\nThe evil of the actual disparity in their ages (and Mr. Woodhouse had\\nnot married early) was much increased by his constitution and habits;\\nfor having been a valetudinarian all his life, without activity\\nof mind or body, he was a much older man in ways than in years;\\nand though everywhere beloved for the friendliness of his heart\\nand his amiable temper, his talents could not have recommended him\\nat any time.\\n\\nHer sister, though comparatively but little removed by matrimony,\\nbeing settled in London, only sixteen miles off, was much beyond\\nher daily reach; and many a long October and November evening must\\nbe struggled through at Hartfield, before Christmas brought the next\\nvisit from Isabella and her husband, and their little children,\\nto fill the house, and give her pleasant society agai"
     ]
    }
   ],
   "source": [
    "tfidf.take(5)[0]"
   ]
  },
  {
   "cell_type": "code",
   "execution_count": 7,
   "id": "e1c4ef91",
   "metadata": {},
   "outputs": [
    {
     "data": {
      "application/vnd.jupyter.widget-view+json": {
       "model_id": "2ccc930d8fbc453cb5b62957a6c79477",
       "version_major": 2,
       "version_minor": 0
      },
      "text/plain": [
       "VBox()"
      ]
     },
     "metadata": {},
     "output_type": "display_data"
    },
    {
     "data": {
      "application/vnd.jupyter.widget-view+json": {
       "model_id": "",
       "version_major": 2,
       "version_minor": 0
      },
      "text/plain": [
       "FloatProgress(value=0.0, bar_style='info', description='Progress:', layout=Layout(height='25px', width='50%'),…"
      ]
     },
     "metadata": {},
     "output_type": "display_data"
    },
    {
     "name": "stdout",
     "output_type": "stream",
     "text": [
      "[[('austen-emma', 'emma'), ('austen-emma', 'jane'), ('austen-emma', 'austen'), ('austen-emma', 'volume'), ('austen-emma', 'chapter'), ('austen-emma', 'emma'), ('austen-emma', 'woodhouse'), ('austen-emma', 'handsome'), ('austen-emma', 'clever'), ('austen-emma', 'rich'), ('austen-emma', 'comfortable'), ('austen-emma', 'home'), ('austen-emma', 'happy'), ('austen-emma', 'disposition'), ('austen-emma', 'unite'), ('austen-emma', 'blessings'), ('austen-emma', 'existence'), ('austen-emma', 'lived'), ('austen-emma', 'twenty'), ('austen-emma', 'years'), ('austen-emma', 'world'), ('austen-emma', 'distress'), ('austen-emma', 'vex'), ('austen-emma', 'youngest'), ('austen-emma', 'daughters'), ('austen-emma', 'affectionate'), ('austen-emma', 'indulgent'), ('austen-emma', 'father'), ('austen-emma', 'consequence'), ('austen-emma', 'sister'), ('austen-emma', 'marriage'), ('austen-emma', 'mistress'), ('austen-emma', 'house'), ('austen-emma', 'early'), ('austen-emma', 'period'), ('austen-emma', 'mother'), ('austen-emma', 'died'), ('austen-emma', 'long'), ('austen-emma', 'ago'), ('austen-emma', 'indistinct'), ('austen-emma', 'remembrance'), ('austen-emma', 'caresses'), ('austen-emma', 'place'), ('austen-emma', 'supplied'), ('austen-emma', 'excellent'), ('austen-emma', 'woman'), ('austen-emma', 'governess'), ('austen-emma', 'fallen'), ('austen-emma', 'short'), ('austen-emma', 'mother'), ('austen-emma', 'affection'), ('austen-emma', 'sixteen'), ('austen-emma', 'years'), ('austen-emma', 'miss'), ('austen-emma', 'taylor'), ('austen-emma', 'mr'), ('austen-emma', 'woodhouse'), ('austen-emma', 'family'), ('austen-emma', 'governess'), ('austen-emma', 'friend'), ('austen-emma', 'fond'), ('austen-emma', 'daughters'), ('austen-emma', 'emma'), ('austen-emma', 'intimacy'), ('austen-emma', 'sisters'), ('austen-emma', 'miss'), ('austen-emma', 'taylor'), ('austen-emma', 'ceased'), ('austen-emma', 'hold'), ('austen-emma', 'nominal'), ('austen-emma', 'office'), ('austen-emma', 'governess'), ('austen-emma', 'mildness'), ('austen-emma', 'temper'), ('austen-emma', 'allowed'), ('austen-emma', 'impose'), ('austen-emma', 'restraint'), ('austen-emma', 'shadow'), ('austen-emma', 'authority'), ('austen-emma', 'long'), ('austen-emma', 'passed'), ('austen-emma', 'living'), ('austen-emma', 'friend'), ('austen-emma', 'friend'), ('austen-emma', 'mutually'), ('austen-emma', 'attached'), ('austen-emma', 'emma'), ('austen-emma', 'highly'), ('austen-emma', 'esteeming'), ('austen-emma', 'miss'), ('austen-emma', 'taylor'), ('austen-emma', 'judgment'), ('austen-emma', 'directed'), ('austen-emma', 'chiefly'), ('austen-emma', 'real'), ('austen-emma', 'evils'), ('austen-emma', 'emma'), ('austen-emma', 'situation'), ('austen-emma', 'power'), ('austen-emma', 'disposition'), ('austen-emma', 'disadvantages'), ('austen-emma', 'threatened'), ('austen-emma', 'alloy'), ('austen-emma', 'enjoyments'), ('austen-emma', 'danger'), ('austen-emma', 'present'), ('austen-emma', 'unperceived'), ('austen-emma', 'means'), ('austen-emma', 'rank'), ('austen-emma', 'misfortunes'), ('austen-emma', 'sorrow'), ('austen-emma', 'gentle'), ('austen-emma', 'sorrow'), ('austen-emma', 'shape'), ('austen-emma', 'disagreeable'), ('austen-emma', 'consciousness'), ('austen-emma', 'miss'), ('austen-emma', 'taylor'), ('austen-emma', 'married'), ('austen-emma', 'miss'), ('austen-emma', 'taylor'), ('austen-emma', 'loss'), ('austen-emma', 'brought'), ('austen-emma', 'grief'), ('austen-emma', 'wedding'), ('austen-emma', 'day'), ('austen-emma', 'beloved'), ('austen-emma', 'friend'), ('austen-emma', 'emma'), ('austen-emma', 'sat'), ('austen-emma', 'mournful'), ('austen-emma', 'thought'), ('austen-emma', 'continuance'), ('austen-emma', 'wedding'), ('austen-emma', 'bride'), ('austen-emma', 'people'), ('austen-emma', 'father'), ('austen-emma', 'left'), ('austen-emma', 'dine'), ('austen-emma', 'prospect'), ('austen-emma', 'cheer'), ('austen-emma', 'long'), ('austen-emma', 'evening'), ('austen-emma', 'father'), ('austen-emma', 'composed'), ('austen-emma', 'sleep'), ('austen-emma', 'dinner'), ('austen-emma', 'usual'), ('austen-emma', 'sit'), ('austen-emma', 'lost'), ('austen-emma', 'event'), ('austen-emma', 'promise'), ('austen-emma', 'happiness'), ('austen-emma', 'friend'), ('austen-emma', 'mr'), ('austen-emma', 'weston'), ('austen-emma', 'man'), ('austen-emma', 'unexceptionable'), ('austen-emma', 'character'), ('austen-emma', 'easy'), ('austen-emma', 'fortune'), ('austen-emma', 'suitable'), ('austen-emma', 'age'), ('austen-emma', 'pleasant'), ('austen-emma', 'manners'), ('austen-emma', 'satisfaction'), ('austen-emma', 'denying'), ('austen-emma', 'generous'), ('austen-emma', 'friendship'), ('austen-emma', 'wished'), ('austen-emma', 'promoted'), ('austen-emma', 'match'), ('austen-emma', 'black'), ('austen-emma', 'morning'), ('austen-emma', 'work'), ('austen-emma', 'miss'), ('austen-emma', 'taylor'), ('austen-emma', 'felt'), ('austen-emma', 'hour'), ('austen-emma', 'day'), ('austen-emma', 'recalled'), ('austen-emma', '"
     ]
    }
   ],
   "source": [
    "tfidf.map(lambda x: [(get_docid(x[0]), term) for term in termify(x[1])]).take(2)"
   ]
  },
  {
   "cell_type": "code",
   "execution_count": 8,
   "id": "4a7b1fd0",
   "metadata": {},
   "outputs": [
    {
     "data": {
      "application/vnd.jupyter.widget-view+json": {
       "model_id": "4e7aa429033841c8ae93e4552fe14e27",
       "version_major": 2,
       "version_minor": 0
      },
      "text/plain": [
       "VBox()"
      ]
     },
     "metadata": {},
     "output_type": "display_data"
    },
    {
     "data": {
      "application/vnd.jupyter.widget-view+json": {
       "model_id": "",
       "version_major": 2,
       "version_minor": 0
      },
      "text/plain": [
       "FloatProgress(value=0.0, bar_style='info', description='Progress:', layout=Layout(height='25px', width='50%'),…"
      ]
     },
     "metadata": {},
     "output_type": "display_data"
    },
    {
     "name": "stdout",
     "output_type": "stream",
     "text": [
      "[('emma', 'austen-emma'), ('jane', 'austen-emma')]"
     ]
    }
   ],
   "source": [
    "tfidf.flatMap(lambda x: [(term, get_docid(x[0])) for term in termify(x[1])]).take(2)"
   ]
  },
  {
   "cell_type": "code",
   "execution_count": 9,
   "id": "b9024191",
   "metadata": {},
   "outputs": [
    {
     "data": {
      "application/vnd.jupyter.widget-view+json": {
       "model_id": "8502cf3d4c1d43b694fe0d0928ff0053",
       "version_major": 2,
       "version_minor": 0
      },
      "text/plain": [
       "VBox()"
      ]
     },
     "metadata": {},
     "output_type": "display_data"
    },
    {
     "data": {
      "application/vnd.jupyter.widget-view+json": {
       "model_id": "",
       "version_major": 2,
       "version_minor": 0
      },
      "text/plain": [
       "FloatProgress(value=0.0, bar_style='info', description='Progress:', layout=Layout(height='25px', width='50%'),…"
      ]
     },
     "metadata": {},
     "output_type": "display_data"
    },
    {
     "name": "stdout",
     "output_type": "stream",
     "text": [
      "[(('emma', 'austen-emma'), 1), (('jane', 'austen-emma'), 1), (('austen', 'austen-emma'), 1), (('volume', 'austen-emma'), 1), (('chapter', 'austen-emma'), 1)]"
     ]
    }
   ],
   "source": [
    "term_frequencies = tfidf.flatMap(lambda x: [(term, get_docid(x[0])) for term in termify(x[1])]) \\\n",
    "                            .map(lambda x: ((x[0], x[1]), 1)) \n",
    "                   \n",
    "\n",
    "term_frequencies.take(5)"
   ]
  },
  {
   "cell_type": "code",
   "execution_count": 10,
   "id": "00427cc1",
   "metadata": {},
   "outputs": [
    {
     "data": {
      "application/vnd.jupyter.widget-view+json": {
       "model_id": "edbcb3fc01c24086b778844a9e9a4f7f",
       "version_major": 2,
       "version_minor": 0
      },
      "text/plain": [
       "VBox()"
      ]
     },
     "metadata": {},
     "output_type": "display_data"
    },
    {
     "data": {
      "application/vnd.jupyter.widget-view+json": {
       "model_id": "",
       "version_major": 2,
       "version_minor": 0
      },
      "text/plain": [
       "FloatProgress(value=0.0, bar_style='info', description='Progress:', layout=Layout(height='25px', width='50%'),…"
      ]
     },
     "metadata": {},
     "output_type": "display_data"
    },
    {
     "name": "stdout",
     "output_type": "stream",
     "text": [
      "[(('emma', 'austen-emma'), 865), (('austen', 'austen-emma'), 1), (('volume', 'austen-emma'), 3), (('woodhouse', 'austen-emma'), 314), (('handsome', 'austen-emma'), 38)]"
     ]
    }
   ],
   "source": [
    "term_frequencies = tfidf.flatMap(lambda x: [(term, get_docid(x[0])) for term in termify(x[1])]) \\\n",
    "                            .map(lambda x: ((x[0], x[1]), 1)) \\\n",
    "                            .reduceByKey(lambda a, b: a + b)\n",
    "\n",
    "term_frequencies.take(5)"
   ]
  },
  {
   "cell_type": "code",
   "execution_count": 11,
   "id": "e0c194c3",
   "metadata": {},
   "outputs": [
    {
     "data": {
      "application/vnd.jupyter.widget-view+json": {
       "model_id": "9fa7a8c19a224d0d9c0ac95dac3a3dd4",
       "version_major": 2,
       "version_minor": 0
      },
      "text/plain": [
       "VBox()"
      ]
     },
     "metadata": {},
     "output_type": "display_data"
    },
    {
     "data": {
      "application/vnd.jupyter.widget-view+json": {
       "model_id": "",
       "version_major": 2,
       "version_minor": 0
      },
      "text/plain": [
       "FloatProgress(value=0.0, bar_style='info', description='Progress:', layout=Layout(height='25px', width='50%'),…"
      ]
     },
     "metadata": {},
     "output_type": "display_data"
    },
    {
     "name": "stdout",
     "output_type": "stream",
     "text": [
      "[('persuasion', 8), ('jane', 4), ('chapter', 9), ('walter', 5), ('somersetshire', 3)]"
     ]
    }
   ],
   "source": [
    "# Calculating document frequencies (DF)\n",
    "document_frequencies = term_frequencies.map(lambda x: (x[0][0], 1)) \\\n",
    "                                       .reduceByKey(lambda a, b: a + b)\n",
    "\n",
    "document_frequencies.take(5)"
   ]
  },
  {
   "cell_type": "code",
   "execution_count": null,
   "id": "4fec7cdf",
   "metadata": {},
   "outputs": [],
   "source": [
    "\n"
   ]
  },
  {
   "cell_type": "code",
   "execution_count": 12,
   "id": "78a05f3c",
   "metadata": {},
   "outputs": [
    {
     "data": {
      "application/vnd.jupyter.widget-view+json": {
       "model_id": "8fc6323329884b8a9bf755d07494b809",
       "version_major": 2,
       "version_minor": 0
      },
      "text/plain": [
       "VBox()"
      ]
     },
     "metadata": {},
     "output_type": "display_data"
    },
    {
     "data": {
      "application/vnd.jupyter.widget-view+json": {
       "model_id": "",
       "version_major": 2,
       "version_minor": 0
      },
      "text/plain": [
       "FloatProgress(value=0.0, bar_style='info', description='Progress:', layout=Layout(height='25px', width='50%'),…"
      ]
     },
     "metadata": {},
     "output_type": "display_data"
    }
   ],
   "source": [
    "doc_term_counts = tfidf.map(lambda x: (get_docid(x[0]), len(termify(x[1]))))\n"
   ]
  },
  {
   "cell_type": "code",
   "execution_count": 13,
   "id": "2edf7772",
   "metadata": {},
   "outputs": [
    {
     "data": {
      "application/vnd.jupyter.widget-view+json": {
       "model_id": "b5586d5d948e43ad94e245f64ba59314",
       "version_major": 2,
       "version_minor": 0
      },
      "text/plain": [
       "VBox()"
      ]
     },
     "metadata": {},
     "output_type": "display_data"
    },
    {
     "data": {
      "application/vnd.jupyter.widget-view+json": {
       "model_id": "",
       "version_major": 2,
       "version_minor": 0
      },
      "text/plain": [
       "FloatProgress(value=0.0, bar_style='info', description='Progress:', layout=Layout(height='25px', width='50%'),…"
      ]
     },
     "metadata": {},
     "output_type": "display_data"
    },
    {
     "name": "stdout",
     "output_type": "stream",
     "text": [
      "[('austen-emma', 53278), ('austen-persuasion', 28637), ('austen-sense', 40397), ('austin-persuasion', 28637), ('bible-kjv', 294290)]"
     ]
    }
   ],
   "source": [
    "doc_term_counts.take(5)"
   ]
  },
  {
   "cell_type": "code",
   "execution_count": 14,
   "id": "eba66ecf",
   "metadata": {},
   "outputs": [
    {
     "data": {
      "application/vnd.jupyter.widget-view+json": {
       "model_id": "8f784fefd6b74199a1433984d28e117a",
       "version_major": 2,
       "version_minor": 0
      },
      "text/plain": [
       "VBox()"
      ]
     },
     "metadata": {},
     "output_type": "display_data"
    },
    {
     "data": {
      "application/vnd.jupyter.widget-view+json": {
       "model_id": "",
       "version_major": 2,
       "version_minor": 0
      },
      "text/plain": [
       "FloatProgress(value=0.0, bar_style='info', description='Progress:', layout=Layout(height='25px', width='50%'),…"
      ]
     },
     "metadata": {},
     "output_type": "display_data"
    }
   ],
   "source": [
    "term_frequencies_join = term_frequencies.keyBy(lambda t: t[0][0])\n",
    "document_frequencies_join = document_frequencies.keyBy(lambda t: t[0])"
   ]
  },
  {
   "cell_type": "code",
   "execution_count": 15,
   "id": "0ba8cb01",
   "metadata": {},
   "outputs": [
    {
     "data": {
      "application/vnd.jupyter.widget-view+json": {
       "model_id": "85738cd5144440edba15253f52ddff6b",
       "version_major": 2,
       "version_minor": 0
      },
      "text/plain": [
       "VBox()"
      ]
     },
     "metadata": {},
     "output_type": "display_data"
    },
    {
     "data": {
      "application/vnd.jupyter.widget-view+json": {
       "model_id": "",
       "version_major": 2,
       "version_minor": 0
      },
      "text/plain": [
       "FloatProgress(value=0.0, bar_style='info', description='Progress:', layout=Layout(height='25px', width='50%'),…"
      ]
     },
     "metadata": {},
     "output_type": "display_data"
    },
    {
     "name": "stdout",
     "output_type": "stream",
     "text": [
      "[('emma', (('emma', 'austen-emma'), 865)), ('austen', (('austen', 'austen-emma'), 1)), ('volume', (('volume', 'austen-emma'), 3))]"
     ]
    }
   ],
   "source": [
    "term_frequencies_join.take(3)"
   ]
  },
  {
   "cell_type": "code",
   "execution_count": 16,
   "id": "f4ffaf14",
   "metadata": {},
   "outputs": [
    {
     "data": {
      "application/vnd.jupyter.widget-view+json": {
       "model_id": "c20c6f3269784cc3b5457f9db1ef3705",
       "version_major": 2,
       "version_minor": 0
      },
      "text/plain": [
       "VBox()"
      ]
     },
     "metadata": {},
     "output_type": "display_data"
    },
    {
     "data": {
      "application/vnd.jupyter.widget-view+json": {
       "model_id": "",
       "version_major": 2,
       "version_minor": 0
      },
      "text/plain": [
       "FloatProgress(value=0.0, bar_style='info', description='Progress:', layout=Layout(height='25px', width='50%'),…"
      ]
     },
     "metadata": {},
     "output_type": "display_data"
    },
    {
     "name": "stdout",
     "output_type": "stream",
     "text": [
      "[('persuasion', ('persuasion', 8)), ('jane', ('jane', 4)), ('chapter', ('chapter', 9))]"
     ]
    }
   ],
   "source": [
    "document_frequencies_join.take(3)"
   ]
  },
  {
   "cell_type": "code",
   "execution_count": 17,
   "id": "13ae4cce",
   "metadata": {},
   "outputs": [
    {
     "data": {
      "application/vnd.jupyter.widget-view+json": {
       "model_id": "93f6fdbb953447b5ae8e4e9229f70b45",
       "version_major": 2,
       "version_minor": 0
      },
      "text/plain": [
       "VBox()"
      ]
     },
     "metadata": {},
     "output_type": "display_data"
    },
    {
     "data": {
      "application/vnd.jupyter.widget-view+json": {
       "model_id": "",
       "version_major": 2,
       "version_minor": 0
      },
      "text/plain": [
       "FloatProgress(value=0.0, bar_style='info', description='Progress:', layout=Layout(height='25px', width='50%'),…"
      ]
     },
     "metadata": {},
     "output_type": "display_data"
    },
    {
     "name": "stdout",
     "output_type": "stream",
     "text": [
      "[('austen-emma', 53278)]"
     ]
    }
   ],
   "source": [
    "x=doc_term_counts.take(1)\n",
    "x"
   ]
  },
  {
   "cell_type": "code",
   "execution_count": 18,
   "id": "0ba16e66",
   "metadata": {},
   "outputs": [
    {
     "data": {
      "application/vnd.jupyter.widget-view+json": {
       "model_id": "05303af85f714f56b88098ff0f6adb89",
       "version_major": 2,
       "version_minor": 0
      },
      "text/plain": [
       "VBox()"
      ]
     },
     "metadata": {},
     "output_type": "display_data"
    },
    {
     "data": {
      "application/vnd.jupyter.widget-view+json": {
       "model_id": "",
       "version_major": 2,
       "version_minor": 0
      },
      "text/plain": [
       "FloatProgress(value=0.0, bar_style='info', description='Progress:', layout=Layout(height='25px', width='50%'),…"
      ]
     },
     "metadata": {},
     "output_type": "display_data"
    },
    {
     "name": "stdout",
     "output_type": "stream",
     "text": [
      "53278"
     ]
    }
   ],
   "source": [
    "doc_term_counts.lookup(x[0][0])[0]"
   ]
  },
  {
   "cell_type": "code",
   "execution_count": 19,
   "id": "bf4fff3b",
   "metadata": {},
   "outputs": [
    {
     "data": {
      "application/vnd.jupyter.widget-view+json": {
       "model_id": "1ff2614382484b5dbb1ba5252553e5b5",
       "version_major": 2,
       "version_minor": 0
      },
      "text/plain": [
       "VBox()"
      ]
     },
     "metadata": {},
     "output_type": "display_data"
    },
    {
     "data": {
      "application/vnd.jupyter.widget-view+json": {
       "model_id": "",
       "version_major": 2,
       "version_minor": 0
      },
      "text/plain": [
       "FloatProgress(value=0.0, bar_style='info', description='Progress:', layout=Layout(height='25px', width='50%'),…"
      ]
     },
     "metadata": {},
     "output_type": "display_data"
    }
   ],
   "source": [
    "z=('persuasion', ((('persuasion', 'austen-persuasion'), 7), ('persuasion', 8)))"
   ]
  },
  {
   "cell_type": "code",
   "execution_count": 20,
   "id": "bfdc82d9",
   "metadata": {},
   "outputs": [
    {
     "data": {
      "application/vnd.jupyter.widget-view+json": {
       "model_id": "78bb2d3c636c4503868e85478c4c5e51",
       "version_major": 2,
       "version_minor": 0
      },
      "text/plain": [
       "VBox()"
      ]
     },
     "metadata": {},
     "output_type": "display_data"
    },
    {
     "data": {
      "application/vnd.jupyter.widget-view+json": {
       "model_id": "",
       "version_major": 2,
       "version_minor": 0
      },
      "text/plain": [
       "FloatProgress(value=0.0, bar_style='info', description='Progress:', layout=Layout(height='25px', width='50%'),…"
      ]
     },
     "metadata": {},
     "output_type": "display_data"
    },
    {
     "name": "stdout",
     "output_type": "stream",
     "text": [
      "'austen-persuasion'"
     ]
    }
   ],
   "source": [
    "z[1][0][0][1]"
   ]
  },
  {
   "cell_type": "code",
   "execution_count": 21,
   "id": "35c06743",
   "metadata": {},
   "outputs": [
    {
     "data": {
      "application/vnd.jupyter.widget-view+json": {
       "model_id": "e356a8c6428b48579a8aaf8cff8dbce9",
       "version_major": 2,
       "version_minor": 0
      },
      "text/plain": [
       "VBox()"
      ]
     },
     "metadata": {},
     "output_type": "display_data"
    },
    {
     "data": {
      "application/vnd.jupyter.widget-view+json": {
       "model_id": "",
       "version_major": 2,
       "version_minor": 0
      },
      "text/plain": [
       "FloatProgress(value=0.0, bar_style='info', description='Progress:', layout=Layout(height='25px', width='50%'),…"
      ]
     },
     "metadata": {},
     "output_type": "display_data"
    },
    {
     "name": "stdout",
     "output_type": "stream",
     "text": [
      "28637"
     ]
    }
   ],
   "source": [
    "doc_term_counts.lookup(z[1][0][0][1])[0]"
   ]
  },
  {
   "cell_type": "code",
   "execution_count": 22,
   "id": "6be70aed",
   "metadata": {},
   "outputs": [
    {
     "data": {
      "application/vnd.jupyter.widget-view+json": {
       "model_id": "7331db32ab4e492f8b9b3bc04d28a95e",
       "version_major": 2,
       "version_minor": 0
      },
      "text/plain": [
       "VBox()"
      ]
     },
     "metadata": {},
     "output_type": "display_data"
    },
    {
     "data": {
      "application/vnd.jupyter.widget-view+json": {
       "model_id": "",
       "version_major": 2,
       "version_minor": 0
      },
      "text/plain": [
       "FloatProgress(value=0.0, bar_style='info', description='Progress:', layout=Layout(height='25px', width='50%'),…"
      ]
     },
     "metadata": {},
     "output_type": "display_data"
    },
    {
     "name": "stdout",
     "output_type": "stream",
     "text": [
      "[('persuasion', ((('persuasion', 'austen-persuasion'), 7), ('persuasion', 8))), ('persuasion', ((('persuasion', 'austen-emma'), 11), ('persuasion', 8))), ('persuasion', ((('persuasion', 'austen-sense'), 13), ('persuasion', 8))), ('persuasion', ((('persuasion', 'austin-persuasion'), 7), ('persuasion', 8))), ('persuasion', ((('persuasion', 'bible-kjv'), 1), ('persuasion', 8)))]"
     ]
    }
   ],
   "source": [
    "term_frequencies_join.join(document_frequencies_join).take(5)"
   ]
  },
  {
   "cell_type": "code",
   "execution_count": 23,
   "id": "1ef839b2",
   "metadata": {},
   "outputs": [
    {
     "data": {
      "application/vnd.jupyter.widget-view+json": {
       "model_id": "23a9ff09b5984e64af269e967c89e645",
       "version_major": 2,
       "version_minor": 0
      },
      "text/plain": [
       "VBox()"
      ]
     },
     "metadata": {},
     "output_type": "display_data"
    },
    {
     "data": {
      "application/vnd.jupyter.widget-view+json": {
       "model_id": "",
       "version_major": 2,
       "version_minor": 0
      },
      "text/plain": [
       "FloatProgress(value=0.0, bar_style='info', description='Progress:', layout=Layout(height='25px', width='50%'),…"
      ]
     },
     "metadata": {},
     "output_type": "display_data"
    }
   ],
   "source": [
    "doc_term_counts_dict = dict(doc_term_counts.collect())\n",
    "\n",
    "# Broadcasting the dictionary\n",
    "doc_term_counts_broadcast = sc.broadcast(doc_term_counts_dict)"
   ]
  },
  {
   "cell_type": "code",
   "execution_count": 24,
   "id": "7aafa7df",
   "metadata": {},
   "outputs": [
    {
     "data": {
      "application/vnd.jupyter.widget-view+json": {
       "model_id": "1f844f6373f9428abff903f8e62908d1",
       "version_major": 2,
       "version_minor": 0
      },
      "text/plain": [
       "VBox()"
      ]
     },
     "metadata": {},
     "output_type": "display_data"
    },
    {
     "data": {
      "application/vnd.jupyter.widget-view+json": {
       "model_id": "",
       "version_major": 2,
       "version_minor": 0
      },
      "text/plain": [
       "FloatProgress(value=0.0, bar_style='info', description='Progress:', layout=Layout(height='25px', width='50%'),…"
      ]
     },
     "metadata": {},
     "output_type": "display_data"
    },
    {
     "name": "stdout",
     "output_type": "stream",
     "text": [
      "28637"
     ]
    }
   ],
   "source": [
    "doc_term_counts_broadcast.value['austen-persuasion']"
   ]
  },
  {
   "cell_type": "code",
   "execution_count": null,
   "id": "5c92726d",
   "metadata": {},
   "outputs": [],
   "source": []
  },
  {
   "cell_type": "code",
   "execution_count": 25,
   "id": "2e0f0d07",
   "metadata": {},
   "outputs": [
    {
     "data": {
      "application/vnd.jupyter.widget-view+json": {
       "model_id": "3cce35018aa94c0694aa546982ddadd8",
       "version_major": 2,
       "version_minor": 0
      },
      "text/plain": [
       "VBox()"
      ]
     },
     "metadata": {},
     "output_type": "display_data"
    },
    {
     "data": {
      "application/vnd.jupyter.widget-view+json": {
       "model_id": "",
       "version_major": 2,
       "version_minor": 0
      },
      "text/plain": [
       "FloatProgress(value=0.0, bar_style='info', description='Progress:', layout=Layout(height='25px', width='50%'),…"
      ]
     },
     "metadata": {},
     "output_type": "display_data"
    }
   ],
   "source": [
    "doc_term_counts_dict = dict(doc_term_counts.collect())\n",
    "\n",
    "# Broadcast the dictionary\n",
    "doc_term_counts_broadcast = sc.broadcast(doc_term_counts_dict)\n",
    "\n",
    "\n",
    "# Computing TF-IDF\n",
    "tfidf = term_frequencies_join.join(document_frequencies_join) \\\n",
    "                        .map(lambda x: ((x[1][0][0][0], x[1][0][0][1]), 1000000 * (x[1][0][1] / doc_term_counts_broadcast.value[x[1][0][0][1]] / x[1][1][1])))\n",
    "\n"
   ]
  },
  {
   "cell_type": "code",
   "execution_count": 26,
   "id": "045d9ce6",
   "metadata": {},
   "outputs": [
    {
     "data": {
      "application/vnd.jupyter.widget-view+json": {
       "model_id": "26f8ac7b58fb4f0da9dfdefda7bf1bd0",
       "version_major": 2,
       "version_minor": 0
      },
      "text/plain": [
       "VBox()"
      ]
     },
     "metadata": {},
     "output_type": "display_data"
    },
    {
     "data": {
      "application/vnd.jupyter.widget-view+json": {
       "model_id": "",
       "version_major": 2,
       "version_minor": 0
      },
      "text/plain": [
       "FloatProgress(value=0.0, bar_style='info', description='Progress:', layout=Layout(height='25px', width='50%'),…"
      ]
     },
     "metadata": {},
     "output_type": "display_data"
    },
    {
     "name": "stdout",
     "output_type": "stream",
     "text": [
      "[(('persuasion', 'austen-persuasion'), 30.5548765582987), (('persuasion', 'austen-emma'), 25.8080258267953)]"
     ]
    }
   ],
   "source": [
    "tfidf.take(2)"
   ]
  },
  {
   "cell_type": "code",
   "execution_count": null,
   "id": "39f7c1c4",
   "metadata": {},
   "outputs": [],
   "source": []
  },
  {
   "cell_type": "code",
   "execution_count": 27,
   "id": "3b02043e",
   "metadata": {},
   "outputs": [
    {
     "data": {
      "application/vnd.jupyter.widget-view+json": {
       "model_id": "9f3c82a3635c4c87a1d8f0b286a40eab",
       "version_major": 2,
       "version_minor": 0
      },
      "text/plain": [
       "VBox()"
      ]
     },
     "metadata": {},
     "output_type": "display_data"
    },
    {
     "data": {
      "application/vnd.jupyter.widget-view+json": {
       "model_id": "",
       "version_major": 2,
       "version_minor": 0
      },
      "text/plain": [
       "FloatProgress(value=0.0, bar_style='info', description='Progress:', layout=Layout(height='25px', width='50%'),…"
      ]
     },
     "metadata": {},
     "output_type": "display_data"
    },
    {
     "name": "stdout",
     "output_type": "stream",
     "text": [
      "[(('23rd', 'austen-emma'), 18.7694733285784), (('24th', 'austen-emma'), 18.7694733285784), (('26th', 'austen-emma'), 18.7694733285784), (('28th', 'austen-emma'), 37.5389466571568), (('7th', 'austen-emma'), 18.7694733285784)]"
     ]
    }
   ],
   "source": [
    "tfidf.sortBy(lambda t: t[0][0]).sortBy(lambda t: t[0][1]).take(5)"
   ]
  },
  {
   "cell_type": "code",
   "execution_count": 28,
   "id": "9df8ed77",
   "metadata": {},
   "outputs": [
    {
     "data": {
      "application/vnd.jupyter.widget-view+json": {
       "model_id": "c7c8d5e081cb44d3a4146e07355fdc69",
       "version_major": 2,
       "version_minor": 0
      },
      "text/plain": [
       "VBox()"
      ]
     },
     "metadata": {},
     "output_type": "display_data"
    },
    {
     "data": {
      "application/vnd.jupyter.widget-view+json": {
       "model_id": "",
       "version_major": 2,
       "version_minor": 0
      },
      "text/plain": [
       "FloatProgress(value=0.0, bar_style='info', description='Progress:', layout=Layout(height='25px', width='50%'),…"
      ]
     },
     "metadata": {},
     "output_type": "display_data"
    }
   ],
   "source": [
    "\n",
    "sample = [\n",
    "    ('arm', 'milton-paradise'),\n",
    "    ('ashtoreth', 'bible-kjv'),\n",
    "    ('decided', 'edgeworth-parents'),\n",
    "    ('enchanting', 'whitman-leaves'),\n",
    "    ('indebted', 'austen-emma'),\n",
    "    ('inspection', 'austen-emma'),\n",
    "    ('knives', 'chesterton-thursday'),\n",
    "    ('material', 'melville-moby_dick'),\n",
    "    ('reconciliation', 'austen-persuasion'),\n",
    "    ('splash', 'bryant-stories')\n",
    "]\n"
   ]
  },
  {
   "cell_type": "code",
   "execution_count": 30,
   "id": "e042f8c0",
   "metadata": {},
   "outputs": [
    {
     "data": {
      "application/vnd.jupyter.widget-view+json": {
       "model_id": "6c2e40259228436fa63f4ab59c5d5d48",
       "version_major": 2,
       "version_minor": 0
      },
      "text/plain": [
       "VBox()"
      ]
     },
     "metadata": {},
     "output_type": "display_data"
    },
    {
     "data": {
      "application/vnd.jupyter.widget-view+json": {
       "model_id": "",
       "version_major": 2,
       "version_minor": 0
      },
      "text/plain": [
       "FloatProgress(value=0.0, bar_style='info', description='Progress:', layout=Layout(height='25px', width='50%'),…"
      ]
     },
     "metadata": {},
     "output_type": "display_data"
    }
   ],
   "source": [
    "sample = sc.parallelize(sample)"
   ]
  },
  {
   "cell_type": "code",
   "execution_count": 31,
   "id": "30c69133",
   "metadata": {},
   "outputs": [
    {
     "data": {
      "application/vnd.jupyter.widget-view+json": {
       "model_id": "a4008c1f70ba4df0932add9661cf9518",
       "version_major": 2,
       "version_minor": 0
      },
      "text/plain": [
       "VBox()"
      ]
     },
     "metadata": {},
     "output_type": "display_data"
    },
    {
     "data": {
      "application/vnd.jupyter.widget-view+json": {
       "model_id": "",
       "version_major": 2,
       "version_minor": 0
      },
      "text/plain": [
       "FloatProgress(value=0.0, bar_style='info', description='Progress:', layout=Layout(height='25px', width='50%'),…"
      ]
     },
     "metadata": {},
     "output_type": "display_data"
    }
   ],
   "source": [
    "tfset = tfidf.keyBy(lambda t: t[0])\n",
    "sampleset = sample.keyBy(lambda t: t)"
   ]
  },
  {
   "cell_type": "code",
   "execution_count": 32,
   "id": "94620375",
   "metadata": {},
   "outputs": [
    {
     "data": {
      "application/vnd.jupyter.widget-view+json": {
       "model_id": "e8d8428857794f0faa417cd66552f035",
       "version_major": 2,
       "version_minor": 0
      },
      "text/plain": [
       "VBox()"
      ]
     },
     "metadata": {},
     "output_type": "display_data"
    },
    {
     "data": {
      "application/vnd.jupyter.widget-view+json": {
       "model_id": "",
       "version_major": 2,
       "version_minor": 0
      },
      "text/plain": [
       "FloatProgress(value=0.0, bar_style='info', description='Progress:', layout=Layout(height='25px', width='50%'),…"
      ]
     },
     "metadata": {},
     "output_type": "display_data"
    }
   ],
   "source": [
    "joined_rdd = tfset.join(sampleset)"
   ]
  },
  {
   "cell_type": "code",
   "execution_count": 33,
   "id": "ef795c61",
   "metadata": {},
   "outputs": [
    {
     "data": {
      "application/vnd.jupyter.widget-view+json": {
       "model_id": "05dccba064ea4f5383f866dfbd9b439c",
       "version_major": 2,
       "version_minor": 0
      },
      "text/plain": [
       "VBox()"
      ]
     },
     "metadata": {},
     "output_type": "display_data"
    },
    {
     "data": {
      "application/vnd.jupyter.widget-view+json": {
       "model_id": "",
       "version_major": 2,
       "version_minor": 0
      },
      "text/plain": [
       "FloatProgress(value=0.0, bar_style='info', description='Progress:', layout=Layout(height='25px', width='50%'),…"
      ]
     },
     "metadata": {},
     "output_type": "display_data"
    },
    {
     "name": "stdout",
     "output_type": "stream",
     "text": [
      "[(('decided', 'edgeworth-parents'), ((('decided', 'edgeworth-parents'), 16.702577207663143), ('decided', 'edgeworth-parents'))), (('material', 'melville-moby_dick'), ((('material', 'melville-moby_dick'), 8.011023167879001), ('material', 'melville-moby_dick'))), (('arm', 'milton-paradise'), ((('arm', 'milton-paradise'), 22.629656617590488), ('arm', 'milton-paradise'))), (('reconciliation', 'austen-persuasion'), ((('reconciliation', 'austen-persuasion'), 21.824911827356217), ('reconciliation', 'austen-persuasion'))), (('indebted', 'austen-emma'), ((('indebted', 'austen-emma'), 10.725413330616227), ('indebted', 'austen-emma')))]"
     ]
    }
   ],
   "source": [
    "joined_rdd.take(5)"
   ]
  },
  {
   "cell_type": "code",
   "execution_count": 34,
   "id": "0213deeb",
   "metadata": {},
   "outputs": [
    {
     "data": {
      "application/vnd.jupyter.widget-view+json": {
       "model_id": "fd74942e7c764c21ad3d77f3960e04a1",
       "version_major": 2,
       "version_minor": 0
      },
      "text/plain": [
       "VBox()"
      ]
     },
     "metadata": {},
     "output_type": "display_data"
    },
    {
     "data": {
      "application/vnd.jupyter.widget-view+json": {
       "model_id": "",
       "version_major": 2,
       "version_minor": 0
      },
      "text/plain": [
       "FloatProgress(value=0.0, bar_style='info', description='Progress:', layout=Layout(height='25px', width='50%'),…"
      ]
     },
     "metadata": {},
     "output_type": "display_data"
    },
    {
     "name": "stdout",
     "output_type": "stream",
     "text": [
      "10"
     ]
    }
   ],
   "source": [
    "joined_rdd.count()"
   ]
  },
  {
   "cell_type": "code",
   "execution_count": 35,
   "id": "bade34d7",
   "metadata": {},
   "outputs": [
    {
     "data": {
      "application/vnd.jupyter.widget-view+json": {
       "model_id": "11ebdb2a195b4f63a1ba2c44055a1ea2",
       "version_major": 2,
       "version_minor": 0
      },
      "text/plain": [
       "VBox()"
      ]
     },
     "metadata": {},
     "output_type": "display_data"
    },
    {
     "data": {
      "application/vnd.jupyter.widget-view+json": {
       "model_id": "",
       "version_major": 2,
       "version_minor": 0
      },
      "text/plain": [
       "FloatProgress(value=0.0, bar_style='info', description='Progress:', layout=Layout(height='25px', width='50%'),…"
      ]
     },
     "metadata": {},
     "output_type": "display_data"
    },
    {
     "name": "stdout",
     "output_type": "stream",
     "text": [
      "[(('decided', 'edgeworth-parents'), 16.702577207663143), (('material', 'melville-moby_dick'), 8.011023167879001), (('arm', 'milton-paradise'), 22.629656617590488)]"
     ]
    }
   ],
   "source": [
    "# Reformatting the join result to get tuples of the form ((term, docid), tfidf_value)\n",
    "reformatted_rdd = joined_rdd.map(lambda x: (x[0], x[1][0][1]))\n",
    "\n",
    "\n",
    "\n",
    "reformatted_rdd.take(3)"
   ]
  },
  {
   "cell_type": "code",
   "execution_count": 36,
   "id": "8d3ffcc1",
   "metadata": {},
   "outputs": [
    {
     "data": {
      "application/vnd.jupyter.widget-view+json": {
       "model_id": "1f3e191867d34727b5710c3da74e748b",
       "version_major": 2,
       "version_minor": 0
      },
      "text/plain": [
       "VBox()"
      ]
     },
     "metadata": {},
     "output_type": "display_data"
    },
    {
     "data": {
      "application/vnd.jupyter.widget-view+json": {
       "model_id": "",
       "version_major": 2,
       "version_minor": 0
      },
      "text/plain": [
       "FloatProgress(value=0.0, bar_style='info', description='Progress:', layout=Layout(height='25px', width='50%'),…"
      ]
     },
     "metadata": {},
     "output_type": "display_data"
    },
    {
     "name": "stdout",
     "output_type": "stream",
     "text": [
      "[(('arm', 'milton-paradise'), 22.629656617590488), (('ashtoreth', 'bible-kjv'), 10.194026300587854), (('decided', 'edgeworth-parents'), 16.702577207663143), (('enchanting', 'whitman-leaves'), 4.450932915539097), (('indebted', 'austen-emma'), 10.725413330616227), (('inspection', 'austen-emma'), 3.1282455547630663), (('knives', 'chesterton-thursday'), 15.05638616619239), (('material', 'melville-moby_dick'), 8.011023167879001), (('reconciliation', 'austen-persuasion'), 21.824911827356217), (('splash', 'bryant-stories'), 34.77535123104743)]"
     ]
    }
   ],
   "source": [
    "# Sorting the reformatted RDD by term\n",
    "sorted_rdd = reformatted_rdd.sortBy(lambda x: x[0][0])\n",
    "\n",
    "sorted_rdd.collect()"
   ]
  },
  {
   "cell_type": "code",
   "execution_count": 37,
   "id": "9ad7e65a",
   "metadata": {},
   "outputs": [
    {
     "data": {
      "application/vnd.jupyter.widget-view+json": {
       "model_id": "49fb01767b7c4b2a8c722dcb180f2648",
       "version_major": 2,
       "version_minor": 0
      },
      "text/plain": [
       "VBox()"
      ]
     },
     "metadata": {},
     "output_type": "display_data"
    },
    {
     "data": {
      "application/vnd.jupyter.widget-view+json": {
       "model_id": "",
       "version_major": 2,
       "version_minor": 0
      },
      "text/plain": [
       "FloatProgress(value=0.0, bar_style='info', description='Progress:', layout=Layout(height='25px', width='50%'),…"
      ]
     },
     "metadata": {},
     "output_type": "display_data"
    }
   ],
   "source": [
    "tfidf = None"
   ]
  }
 ],
 "metadata": {
  "kernelspec": {
   "display_name": "Python 3 (ipykernel)",
   "language": "python",
   "name": "python3"
  },
  "language_info": {
   "codemirror_mode": {
    "name": "ipython",
    "version": 3
   },
   "file_extension": ".py",
   "mimetype": "text/x-python",
   "name": "python",
   "nbconvert_exporter": "python",
   "pygments_lexer": "ipython3",
   "version": "3.13.1"
  }
 },
 "nbformat": 4,
 "nbformat_minor": 5
}