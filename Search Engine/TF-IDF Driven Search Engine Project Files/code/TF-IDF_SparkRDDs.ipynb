{
 "cells": [
  {
   "cell_type": "code",
   "execution_count": null,
   "id": "411f3a37",
   "metadata": {},
   "outputs": [],
   "source": [
    "sc"
   ]
  },
  {
   "cell_type": "code",
   "execution_count": null,
   "id": "caefd39f",
   "metadata": {},
   "outputs": [],
   "source": [
    "\n",
    "\n",
    "import re\n",
    "\n",
    "stopwords = set([\"a\", \"as\", \"able\", \"about\", \"above\", \"according\", \"accordingly\",\n",
    "\t     \"across\", \"actually\", \"after\", \"afterwards\", \"again\", \"against\", \"aint\", \"all\", \"allow\",\n",
    "\t     \"allows\", \"almost\", \"alone\", \"along\", \"already\", \"also\", \"although\", \"always\", \"am\", \"among\",\n",
    "\t     \"amongst\", \"an\", \"and\", \"another\", \"any\", \"anybody\", \"anyhow\", \"anyone\", \"anything\", \"anyway\",\n",
    "\t     \"anyways\", \"anywhere\", \"apart\", \"appear\",\"appreciate\", \"appropriate\", \"are\", \"arent\", \"around\",\n",
    "\t     \"as\", \"aside\", \"ask\", \"asking\", \"associated\", \"at\", \"available\", \"away\", \"awfully\", \"be\", \"became\",\n",
    "\t     \"because\", \"become\", \"becomes\", \"becoming\", \"been\", \"before\", \"beforehand\", \"behind\",\n",
    "\t     \"being\", \"believe\", \"below\", \"beside\", \"besides\", \"best\", \"better\", \"between\", \"beyond\",\n",
    "\t     \"both\", \"brief\", \"but\", \"by\", \"cmon\", \"cs\", \"came\", \"can\", \"cant\", \"cannot\", \"cant\",\n",
    "\t     \"cause\", \"causes\", \"certain\", \"certainly\", \"changes\", \"clearly\", \"co\", \"com\", \"come\",\n",
    "\t     \"comes\", \"concerning\", \"consequently\", \"consider\", \"considering\", \"contain\", \"containing\",\n",
    "\t     \"contains\", \"corresponding\", \"could\", \"couldnt\", \"course\", \"currently\", \"definitely\",\n",
    "\t     \"described\", \"despite\", \"did\", \"didnt\", \"different\", \"do\", \"does\", \"doesnt\", \"doing\",\n",
    "\t     \"dont\", \"done\", \"down\", \"downwards\", \"during\", \"each\", \"edu\", \"eg\", \"eight\", \"either\",\n",
    "\t     \"else\", \"elsewhere\", \"enough\", \"entirely\", \"especially\", \"et\", \"etc\", \"even\", \"ever\",\n",
    "\t     \"every\", \"everybody\", \"everyone\", \"everything\", \"everywhere\", \"ex\", \"exactly\", \"example\",\n",
    "\t     \"except\", \"far\", \"few\", \"ff\", \"fifth\", \"first\", \"five\", \"followed\", \"following\", \"follows\",\n",
    "\t     \"for\", \"former\", \"formerly\", \"forth\", \"four\", \"from\", \"further\", \"furthermore\", \"get\",\n",
    "\t     \"gets\", \"getting\", \"given\", \"gives\", \"go\", \"goes\", \"going\", \"gone\", \"got\", \"gotten\",\n",
    "\t     \"greetings\", \"had\", \"hadnt\", \"happens\", \"hardly\", \"has\", \"hasnt\", \"have\", \"havent\",\n",
    "\t     \"having\", \"he\", \"hes\", \"hello\", \"help\", \"hence\", \"her\", \"here\", \"heres\", \"hereafter\",\n",
    "\t     \"hereby\", \"herein\", \"hereupon\", \"hers\", \"herself\", \"hi\", \"him\", \"himself\",\n",
    "\t     \"his\", \"hither\", \"hopefully\", \"how\", \"howbeit\", \"however\", \"i\", \"id\", \"ill\", \"im\", \"ive\",\n",
    "\t     \"ie\", \"if\", \"ignored\", \"immediate\", \"in\", \"inasmuch\", \"inc\", \"indeed\", \"indicate\",\n",
    "\t     \"indicated\", \"indicates\", \"inner\", \"insofar\", \"instead\", \"into\", \"inward\", \"is\",\n",
    "\t     \"isnt\", \"it\", \"itd\", \"itll\", \"its\", \"its\", \"itself\", \"just\", \"keep\", \"keeps\", \"kept\",\n",
    "\t     \"know\", \"knows\", \"known\", \"last\", \"lately\", \"later\", \"latter\", \"latterly\", \"least\",\n",
    "\t     \"less\", \"lest\", \"let\", \"lets\", \"like\", \"liked\", \"likely\", \"little\", \"look\", \"looking\",\n",
    "\t     \"looks\", \"ltd\", \"mainly\", \"many\", \"may\", \"maybe\", \"me\", \"mean\", \"meanwhile\", \"merely\",\n",
    "\t     \"might\", \"more\", \"moreover\", \"most\", \"mostly\", \"much\", \"must\", \"my\", \"myself\",\n",
    "\t     \"name\", \"namely\", \"nd\", \"near\", \"nearly\", \"necessary\", \"need\", \"needs\", \"neither\",\n",
    "\t     \"never\", \"nevertheless\", \"new\", \"next\", \"nine\", \"no\", \"nobody\", \"non\", \"none\", \"noone\",\n",
    "\t     \"nor\", \"normally\", \"not\", \"nothing\", \"novel\", \"now\", \"nowhere\", \"obviously\", \"of\",\n",
    "\t     \"off\", \"often\", \"oh\", \"ok\", \"okay\", \"old\", \"on\", \"once\", \"one\", \"ones\", \"only\",\n",
    "\t     \"onto\", \"or\", \"other\", \"others\", \"otherwise\", \"ought\", \"our\", \"ours\", \"ourselves\",\n",
    "\t     \"out\", \"outside\", \"over\", \"overall\", \"own\", \"particular\", \"particularly\",\n",
    "\t     \"per\", \"perhaps\", \"placed\", \"please\", \"plus\", \"possible\", \"presumably\", \"probably\",\n",
    "\t     \"provides\", \"que\", \"quite\", \"qv\", \"rather\", \"rd\", \"re\", \"really\", \"reasonably\",\n",
    "\t     \"regarding\", \"regardless\", \"regards\", \"relatively\", \"respectively\", \"right\", \"said\",\n",
    "\t     \"same\", \"saw\", \"say\", \"saying\", \"says\", \"second\", \"secondly\", \"see\", \"seeing\",\n",
    "\t     \"seem\", \"seemed\", \"seeming\", \"seems\", \"seen\", \"self\", \"selves\", \"sensible\", \"sent\",\n",
    "\t     \"serious\", \"seriously\", \"seven\", \"several\", \"shall\", \"she\", \"should\", \"shouldnt\",\n",
    "\t     \"since\", \"six\", \"so\", \"some\", \"somebody\", \"somehow\", \"someone\", \"something\",\n",
    "\t     \"sometime\", \"sometimes\", \"somewhat\", \"somewhere\", \"soon\", \"sorry\", \"specified\", \"specify\",\n",
    "\t     \"specifying\", \"still\", \"sub\", \"such\", \"sup\", \"sure\", \"ts\", \"take\", \"taken\", \"tell\", \"tends\",\n",
    "\t     \"th\", \"than\", \"thank\", \"thanks\", \"thanx\", \"that\", \"thats\", \"thats\", \"the\", \"their\", \"theirs\",\n",
    "\t     \"them\", \"themselves\", \"then\", \"thence\", \"there\", \"theres\", \"thereafter\", \"thereby\",\n",
    "\t     \"therefore\", \"therein\", \"theres\", \"thereupon\", \"these\", \"they\", \"theyd\",\n",
    "\t     \"theyll\", \"theyre\", \"theyve\", \"think\", \"third\", \"this\", \"thorough\",\n",
    "\t     \"thoroughly\", \"those\", \"though\", \"three\", \"through\", \"throughout\", \"thru\",\n",
    "\t     \"thus\", \"to\", \"together\", \"too\", \"took\", \"toward\", \"towards\", \"tried\", \"tries\",\n",
    "\t     \"truly\", \"try\", \"trying\", \"twice\", \"two\", \"un\", \"under\", \"unfortunately\",\n",
    "\t     \"unless\", \"unlikely\", \"until\", \"unto\", \"up\", \"upon\", \"us\", \"use\", \"used\",\n",
    "\t     \"useful\", \"uses\", \"using\", \"usually\", \"value\", \"various\", \"very\", \"via\", \"viz\",\n",
    "\t     \"vs\", \"want\", \"wants\", \"was\", \"wasnt\", \"way\", \"we\", \"wed\", \"well\", \"were\", \"weve\",\n",
    "\t     \"welcome\", \"well\", \"went\", \"were\", \"werent\", \"what\", \"whats\", \"whatever\", \"when\",\n",
    "\t     \"whence\", \"whenever\", \"where\", \"wheres\", \"whereafter\", \"whereas\", \"whereby\",\n",
    "\t     \"wherein\", \"whereupon\", \"wherever\", \"whether\", \"which\", \"while\", \"whither\", \"who\",\n",
    "\t     \"whos\", \"whoever\", \"whole\", \"whom\", \"whose\", \"why\", \"will\", \"willing\", \"wish\",\n",
    "\t     \"with\", \"within\", \"without\", \"wont\", \"wonder\", \"would\", \"would\", \"wouldnt\", \"yes\",\n",
    "\t     \"yet\", \"you\", \"youd\", \"youll\", \"youre\", \"youve\", \"your\", \"yours\", \"yourself\",\n",
    "\t     \"yourselves\", \"zero\"])\n",
    "\n",
    "def termify(line):\n",
    "    terms = []\n",
    "    words = re.findall(r'[^\\W_]+', line)\n",
    "    for word in words:\n",
    "        lowered = word.lower()\n",
    "        if (len(lowered) > 1) and (lowered not in stopwords) and (not re.search(r'^\\d*$', lowered)):\n",
    "            terms.append(lowered)\n",
    "    return terms\n"
   ]
  },
  {
   "cell_type": "code",
   "execution_count": null,
   "id": "e0aff30c",
   "metadata": {},
   "outputs": [],
   "source": [
    "\n",
    "# point to S3 location for this folder\n",
    "tfidf=sc.wholeTextFiles('s3://aws-emr-studio-247682200909-us-east-1/1716062555134/e-8AZYNSASTJA7YMJE429MQZSN8/textcorpora/')"
   ]
  },
  {
   "cell_type": "code",
   "execution_count": null,
   "id": "86529fe8",
   "metadata": {},
   "outputs": [],
   "source": [
    "# function to get a docid from a file path\n",
    "def get_docid(filepath):\n",
    "    return filepath.split('/')[-1][: -4]"
   ]
  },
  {
   "cell_type": "markdown",
   "id": "926bd6a9",
   "metadata": {},
   "source": [
    "#### \n",
    "below codes read the document corpus (directory) and produces TF-IDF values for each (term, doc-id) pair using Spark RDDs in every phase \n"
   ]
  },
  {
   "cell_type": "code",
   "execution_count": null,
   "id": "e94ce2a2",
   "metadata": {},
   "outputs": [],
   "source": [
    "tfidf.take(5)[0]"
   ]
  },
  {
   "cell_type": "code",
   "execution_count": null,
   "id": "e1c4ef91",
   "metadata": {},
   "outputs": [],
   "source": [
    "tfidf.map(lambda x: [(get_docid(x[0]), term) for term in termify(x[1])]).take(2)"
   ]
  },
  {
   "cell_type": "code",
   "execution_count": null,
   "id": "4a7b1fd0",
   "metadata": {},
   "outputs": [],
   "source": [
    "tfidf.flatMap(lambda x: [(term, get_docid(x[0])) for term in termify(x[1])]).take(2)"
   ]
  },
  {
   "cell_type": "code",
   "execution_count": null,
   "id": "b9024191",
   "metadata": {},
   "outputs": [],
   "source": [
    "term_frequencies = tfidf.flatMap(lambda x: [(term, get_docid(x[0])) for term in termify(x[1])]) \\\n",
    "                            .map(lambda x: ((x[0], x[1]), 1)) \n",
    "                   \n",
    "\n",
    "term_frequencies.take(5)"
   ]
  },
  {
   "cell_type": "code",
   "execution_count": null,
   "id": "00427cc1",
   "metadata": {},
   "outputs": [],
   "source": [
    "term_frequencies = tfidf.flatMap(lambda x: [(term, get_docid(x[0])) for term in termify(x[1])]) \\\n",
    "                            .map(lambda x: ((x[0], x[1]), 1)) \\\n",
    "                            .reduceByKey(lambda a, b: a + b)\n",
    "\n",
    "term_frequencies.take(5)"
   ]
  },
  {
   "cell_type": "code",
   "execution_count": null,
   "id": "e0c194c3",
   "metadata": {},
   "outputs": [],
   "source": [
    "# Calculating document frequencies (DF)\n",
    "document_frequencies = term_frequencies.map(lambda x: (x[0][0], 1)) \\\n",
    "                                       .reduceByKey(lambda a, b: a + b)\n",
    "\n",
    "document_frequencies.take(5)"
   ]
  },
  {
   "cell_type": "code",
   "execution_count": null,
   "id": "4fec7cdf",
   "metadata": {},
   "outputs": [],
   "source": [
    "\n"
   ]
  },
  {
   "cell_type": "code",
   "execution_count": null,
   "id": "78a05f3c",
   "metadata": {},
   "outputs": [],
   "source": [
    "doc_term_counts = tfidf.map(lambda x: (get_docid(x[0]), len(termify(x[1]))))\n"
   ]
  },
  {
   "cell_type": "code",
   "execution_count": null,
   "id": "2edf7772",
   "metadata": {},
   "outputs": [],
   "source": [
    "doc_term_counts.take(5)"
   ]
  },
  {
   "cell_type": "code",
   "execution_count": null,
   "id": "eba66ecf",
   "metadata": {},
   "outputs": [],
   "source": [
    "term_frequencies_join = term_frequencies.keyBy(lambda t: t[0][0])\n",
    "document_frequencies_join = document_frequencies.keyBy(lambda t: t[0])"
   ]
  },
  {
   "cell_type": "code",
   "execution_count": null,
   "id": "0ba8cb01",
   "metadata": {},
   "outputs": [],
   "source": [
    "term_frequencies_join.take(3)"
   ]
  },
  {
   "cell_type": "code",
   "execution_count": null,
   "id": "f4ffaf14",
   "metadata": {},
   "outputs": [],
   "source": [
    "document_frequencies_join.take(3)"
   ]
  },
  {
   "cell_type": "code",
   "execution_count": null,
   "id": "13ae4cce",
   "metadata": {},
   "outputs": [],
   "source": [
    "x=doc_term_counts.take(1)\n",
    "x"
   ]
  },
  {
   "cell_type": "code",
   "execution_count": null,
   "id": "0ba16e66",
   "metadata": {},
   "outputs": [],
   "source": [
    "doc_term_counts.lookup(x[0][0])[0]"
   ]
  },
  {
   "cell_type": "code",
   "execution_count": null,
   "id": "bf4fff3b",
   "metadata": {},
   "outputs": [],
   "source": [
    "z=('persuasion', ((('persuasion', 'austen-persuasion'), 7), ('persuasion', 8)))"
   ]
  },
  {
   "cell_type": "code",
   "execution_count": null,
   "id": "bfdc82d9",
   "metadata": {},
   "outputs": [],
   "source": [
    "z[1][0][0][1]"
   ]
  },
  {
   "cell_type": "code",
   "execution_count": null,
   "id": "35c06743",
   "metadata": {},
   "outputs": [],
   "source": [
    "doc_term_counts.lookup(z[1][0][0][1])[0]"
   ]
  },
  {
   "cell_type": "code",
   "execution_count": null,
   "id": "6be70aed",
   "metadata": {},
   "outputs": [],
   "source": [
    "term_frequencies_join.join(document_frequencies_join).take(5)"
   ]
  },
  {
   "cell_type": "code",
   "execution_count": null,
   "id": "1ef839b2",
   "metadata": {},
   "outputs": [],
   "source": [
    "doc_term_counts_dict = dict(doc_term_counts.collect())\n",
    "\n",
    "# Broadcasting the dictionary\n",
    "doc_term_counts_broadcast = sc.broadcast(doc_term_counts_dict)"
   ]
  },
  {
   "cell_type": "code",
   "execution_count": null,
   "id": "7aafa7df",
   "metadata": {},
   "outputs": [],
   "source": [
    "doc_term_counts_broadcast.value['austen-persuasion']"
   ]
  },
  {
   "cell_type": "code",
   "execution_count": null,
   "id": "5c92726d",
   "metadata": {},
   "outputs": [],
   "source": []
  },
  {
   "cell_type": "code",
   "execution_count": null,
   "id": "2e0f0d07",
   "metadata": {},
   "outputs": [],
   "source": [
    "doc_term_counts_dict = dict(doc_term_counts.collect())\n",
    "\n",
    "# Broadcast the dictionary\n",
    "doc_term_counts_broadcast = sc.broadcast(doc_term_counts_dict)\n",
    "\n",
    "\n",
    "# Computing TF-IDF\n",
    "tfidf = term_frequencies_join.join(document_frequencies_join) \\\n",
    "                        .map(lambda x: ((x[1][0][0][0], x[1][0][0][1]), 1000000 * (x[1][0][1] / doc_term_counts_broadcast.value[x[1][0][0][1]] / x[1][1][1])))\n",
    "\n"
   ]
  },
  {
   "cell_type": "code",
   "execution_count": null,
   "id": "045d9ce6",
   "metadata": {},
   "outputs": [],
   "source": [
    "tfidf.take(2)"
   ]
  },
  {
   "cell_type": "code",
   "execution_count": null,
   "id": "39f7c1c4",
   "metadata": {},
   "outputs": [],
   "source": []
  },
  {
   "cell_type": "code",
   "execution_count": null,
   "id": "3b02043e",
   "metadata": {},
   "outputs": [],
   "source": [
    "tfidf.sortBy(lambda t: t[0][0]).sortBy(lambda t: t[0][1]).take(5)"
   ]
  },
  {
   "cell_type": "code",
   "execution_count": null,
   "id": "9df8ed77",
   "metadata": {},
   "outputs": [],
   "source": [
    "\n",
    "sample = [\n",
    "    ('arm', 'milton-paradise'),\n",
    "    ('ashtoreth', 'bible-kjv'),\n",
    "    ('decided', 'edgeworth-parents'),\n",
    "    ('enchanting', 'whitman-leaves'),\n",
    "    ('indebted', 'austen-emma'),\n",
    "    ('inspection', 'austen-emma'),\n",
    "    ('knives', 'chesterton-thursday'),\n",
    "    ('material', 'melville-moby_dick'),\n",
    "    ('reconciliation', 'austen-persuasion'),\n",
    "    ('splash', 'bryant-stories')\n",
    "]\n"
   ]
  },
  {
   "cell_type": "code",
   "execution_count": null,
   "id": "e042f8c0",
   "metadata": {},
   "outputs": [],
   "source": [
    "sample = sc.parallelize(sample)"
   ]
  },
  {
   "cell_type": "code",
   "execution_count": null,
   "id": "30c69133",
   "metadata": {},
   "outputs": [],
   "source": [
    "tfset = tfidf.keyBy(lambda t: t[0])\n",
    "sampleset = sample.keyBy(lambda t: t)"
   ]
  },
  {
   "cell_type": "code",
   "execution_count": null,
   "id": "94620375",
   "metadata": {},
   "outputs": [],
   "source": [
    "joined_rdd = tfset.join(sampleset)"
   ]
  },
  {
   "cell_type": "code",
   "execution_count": null,
   "id": "ef795c61",
   "metadata": {},
   "outputs": [],
   "source": [
    "joined_rdd.take(5)"
   ]
  },
  {
   "cell_type": "code",
   "execution_count": null,
   "id": "0213deeb",
   "metadata": {},
   "outputs": [],
   "source": [
    "joined_rdd.count()"
   ]
  },
  {
   "cell_type": "code",
   "execution_count": null,
   "id": "bade34d7",
   "metadata": {},
   "outputs": [],
   "source": [
    "# Reformatting the join result to get tuples of the form ((term, docid), tfidf_value)\n",
    "reformatted_rdd = joined_rdd.map(lambda x: (x[0], x[1][0][1]))\n",
    "\n",
    "\n",
    "\n",
    "reformatted_rdd.take(3)"
   ]
  },
  {
   "cell_type": "code",
   "execution_count": null,
   "id": "8d3ffcc1",
   "metadata": {},
   "outputs": [],
   "source": [
    "# Sorting the reformatted RDD by term\n",
    "sorted_rdd = reformatted_rdd.sortBy(lambda x: x[0][0])\n",
    "\n",
    "sorted_rdd.collect()"
   ]
  },
  {
   "cell_type": "code",
   "execution_count": null,
   "id": "9ad7e65a",
   "metadata": {},
   "outputs": [],
   "source": [
    "tfidf = None"
   ]
  }
 ],
 "metadata": {
  "kernelspec": {
   "display_name": "Python 3 (ipykernel)",
   "language": "python",
   "name": "python3"
  },
  "language_info": {
   "codemirror_mode": {
    "name": "ipython",
    "version": 3
   },
   "file_extension": ".py",
   "mimetype": "text/x-python",
   "name": "python",
   "nbconvert_exporter": "python",
   "pygments_lexer": "ipython3",
   "version": "3.13.1"
  }
 },
 "nbformat": 4,
 "nbformat_minor": 5
}